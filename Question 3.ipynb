{
  "nbformat": 4,
  "nbformat_minor": 0,
  "metadata": {
    "colab": {
      "provenance": []
    },
    "kernelspec": {
      "name": "python3",
      "display_name": "Python 3"
    },
    "language_info": {
      "name": "python"
    }
  },
  "cells": [
    {
      "cell_type": "code",
      "execution_count": 6,
      "metadata": {
        "id": "Mgh4GZzUpGjg"
      },
      "outputs": [],
      "source": [
        "import dask.dataframe as dd\n",
        "# set path\n",
        "trade_data_files = '/BACI_HS12_Y*.csv'\n",
        "country_codes_file = '/country_codes_V202001.csv'\n",
        "product_codes_file = '/product_codes_HS12_V202001.csv'\n",
        "\n",
        "# read data\n",
        "trade_data = dd.read_csv(trade_data_files, dtype={'k': 'object'}, encoding='latin1')\n",
        "country_codes = dd.read_csv(country_codes_file, encoding='latin1')\n",
        "product_codes = dd.read_csv(product_codes_file, dtype={'code': 'object'}, encoding='latin1')"
      ]
    },
    {
      "cell_type": "code",
      "source": [
        "# Merge country codes with trade data\n",
        "trade_data = trade_data.merge(country_codes, left_on='i', right_on='country_code', how='left')\n",
        "trade_data = trade_data.merge(country_codes, left_on='j', right_on='country_code', how='left', suffixes=('_exporter', '_importer'))\n",
        "\n",
        "# Merge product codes with trade data\n",
        "trade_data = trade_data.merge(product_codes, left_on='k', right_on='code', how='left')"
      ],
      "metadata": {
        "id": "0XSZdmITs8_V"
      },
      "execution_count": 10,
      "outputs": []
    },
    {
      "cell_type": "code",
      "source": [
        "# new file\n",
        "econ_data = dd.read_csv('/EconMap_3.1_ssp2.csv', usecols=['code_wb', 'year', 'gdp', 'population'])"
      ],
      "metadata": {
        "id": "Cwn_O1rttUQ_"
      },
      "execution_count": 12,
      "outputs": []
    },
    {
      "cell_type": "code",
      "source": [
        "# Convert data types\n",
        "econ_data['year'] = econ_data['year'].astype(int)\n",
        "econ_data['code_wb'] = econ_data['code_wb'].astype(str)\n",
        "# Ensure trade_data columns are correctly typed\n",
        "trade_data['t'] = trade_data['t'].astype(int)\n",
        "trade_data['iso_3digit_alpha_exporter'] = trade_data['iso_3digit_alpha_exporter'].astype(str)\n",
        "trade_data['iso_3digit_alpha_importer'] = trade_data['iso_3digit_alpha_importer'].astype(str)"
      ],
      "metadata": {
        "id": "p_Zw8PBKtfBl"
      },
      "execution_count": 13,
      "outputs": []
    },
    {
      "cell_type": "code",
      "source": [
        "# Merge for exporters\n",
        "trade_data = trade_data.merge(\n",
        "    econ_data,\n",
        "    left_on=['iso_3digit_alpha_exporter', 't'],\n",
        "    right_on=['code_wb', 'year'],\n",
        "    how='left',\n",
        "\n",
        ")"
      ],
      "metadata": {
        "id": "eovqXGX8tgpR"
      },
      "execution_count": 14,
      "outputs": []
    },
    {
      "cell_type": "code",
      "source": [
        "trade_data = trade_data.rename(columns={'gdp': 'gdp_exporter', 'population': 'population_exporter'})"
      ],
      "metadata": {
        "id": "ZscDRv4ktj3U"
      },
      "execution_count": 15,
      "outputs": []
    },
    {
      "cell_type": "code",
      "source": [
        "trade_data = trade_data.drop(['code_wb', 'year'], axis=1)"
      ],
      "metadata": {
        "id": "NUYM7AOktpEx"
      },
      "execution_count": 16,
      "outputs": []
    },
    {
      "cell_type": "code",
      "source": [
        "# Merge for importers\n",
        "trade_data = trade_data.merge(\n",
        "    econ_data,\n",
        "    left_on=['iso_3digit_alpha_importer', 't'],\n",
        "    right_on=['code_wb', 'year'],\n",
        "    how='left')"
      ],
      "metadata": {
        "id": "vVZJ6Yw4tuD9"
      },
      "execution_count": 17,
      "outputs": []
    },
    {
      "cell_type": "code",
      "source": [
        "trade_data = trade_data.rename(columns={'gdp': 'gdp_importer', 'population': 'population_importer'})"
      ],
      "metadata": {
        "id": "1S-Jdx8ftxux"
      },
      "execution_count": 18,
      "outputs": []
    },
    {
      "cell_type": "code",
      "source": [
        "trade_data = trade_data.drop(['code_wb', 'year'], axis=1)"
      ],
      "metadata": {
        "id": "2twgT4gPt21d"
      },
      "execution_count": 19,
      "outputs": []
    },
    {
      "cell_type": "code",
      "source": [
        "trade_data"
      ],
      "metadata": {
        "colab": {
          "base_uri": "https://localhost:8080/",
          "height": 261
        },
        "id": "u0uHR8FGt61-",
        "outputId": "4ebd3395-9ec6-4e85-f191-e830d4fb9503"
      },
      "execution_count": 20,
      "outputs": [
        {
          "output_type": "execute_result",
          "data": {
            "text/plain": [
              "Dask DataFrame Structure:\n",
              "                   t      i      j       k        v        q country_code_exporter country_name_abbreviation_exporter country_name_full_exporter iso_2digit_alpha_exporter iso_3digit_alpha_exporter country_code_importer country_name_abbreviation_importer country_name_full_importer iso_2digit_alpha_importer iso_3digit_alpha_importer    code description gdp_exporter population_exporter gdp_importer population_importer\n",
              "npartitions=3                                                                                                                                                                                                                                                                                                                                                                                                                     \n",
              "               int64  int64  int64  string  float64  float64                 int64                             string                     string                    string                    string                 int64                             string                     string                    string                    string  string      string      float64             float64      float64             float64\n",
              "                 ...    ...    ...     ...      ...      ...                   ...                                ...                        ...                       ...                       ...                   ...                                ...                        ...                       ...                       ...     ...         ...          ...                 ...          ...                 ...\n",
              "                 ...    ...    ...     ...      ...      ...                   ...                                ...                        ...                       ...                       ...                   ...                                ...                        ...                       ...                       ...     ...         ...          ...                 ...          ...                 ...\n",
              "                 ...    ...    ...     ...      ...      ...                   ...                                ...                        ...                       ...                       ...                   ...                                ...                        ...                       ...                       ...     ...         ...          ...                 ...          ...                 ...\n",
              "Dask Name: drop_by_shallow_copy, 35 graph layers"
            ],
            "text/html": [
              "<div><strong>Dask DataFrame Structure:</strong></div>\n",
              "<div>\n",
              "<style scoped>\n",
              "    .dataframe tbody tr th:only-of-type {\n",
              "        vertical-align: middle;\n",
              "    }\n",
              "\n",
              "    .dataframe tbody tr th {\n",
              "        vertical-align: top;\n",
              "    }\n",
              "\n",
              "    .dataframe thead th {\n",
              "        text-align: right;\n",
              "    }\n",
              "</style>\n",
              "<table border=\"1\" class=\"dataframe\">\n",
              "  <thead>\n",
              "    <tr style=\"text-align: right;\">\n",
              "      <th></th>\n",
              "      <th>t</th>\n",
              "      <th>i</th>\n",
              "      <th>j</th>\n",
              "      <th>k</th>\n",
              "      <th>v</th>\n",
              "      <th>q</th>\n",
              "      <th>country_code_exporter</th>\n",
              "      <th>country_name_abbreviation_exporter</th>\n",
              "      <th>country_name_full_exporter</th>\n",
              "      <th>iso_2digit_alpha_exporter</th>\n",
              "      <th>iso_3digit_alpha_exporter</th>\n",
              "      <th>country_code_importer</th>\n",
              "      <th>country_name_abbreviation_importer</th>\n",
              "      <th>country_name_full_importer</th>\n",
              "      <th>iso_2digit_alpha_importer</th>\n",
              "      <th>iso_3digit_alpha_importer</th>\n",
              "      <th>code</th>\n",
              "      <th>description</th>\n",
              "      <th>gdp_exporter</th>\n",
              "      <th>population_exporter</th>\n",
              "      <th>gdp_importer</th>\n",
              "      <th>population_importer</th>\n",
              "    </tr>\n",
              "    <tr>\n",
              "      <th>npartitions=3</th>\n",
              "      <th></th>\n",
              "      <th></th>\n",
              "      <th></th>\n",
              "      <th></th>\n",
              "      <th></th>\n",
              "      <th></th>\n",
              "      <th></th>\n",
              "      <th></th>\n",
              "      <th></th>\n",
              "      <th></th>\n",
              "      <th></th>\n",
              "      <th></th>\n",
              "      <th></th>\n",
              "      <th></th>\n",
              "      <th></th>\n",
              "      <th></th>\n",
              "      <th></th>\n",
              "      <th></th>\n",
              "      <th></th>\n",
              "      <th></th>\n",
              "      <th></th>\n",
              "      <th></th>\n",
              "    </tr>\n",
              "  </thead>\n",
              "  <tbody>\n",
              "    <tr>\n",
              "      <th></th>\n",
              "      <td>int64</td>\n",
              "      <td>int64</td>\n",
              "      <td>int64</td>\n",
              "      <td>string</td>\n",
              "      <td>float64</td>\n",
              "      <td>float64</td>\n",
              "      <td>int64</td>\n",
              "      <td>string</td>\n",
              "      <td>string</td>\n",
              "      <td>string</td>\n",
              "      <td>string</td>\n",
              "      <td>int64</td>\n",
              "      <td>string</td>\n",
              "      <td>string</td>\n",
              "      <td>string</td>\n",
              "      <td>string</td>\n",
              "      <td>string</td>\n",
              "      <td>string</td>\n",
              "      <td>float64</td>\n",
              "      <td>float64</td>\n",
              "      <td>float64</td>\n",
              "      <td>float64</td>\n",
              "    </tr>\n",
              "    <tr>\n",
              "      <th></th>\n",
              "      <td>...</td>\n",
              "      <td>...</td>\n",
              "      <td>...</td>\n",
              "      <td>...</td>\n",
              "      <td>...</td>\n",
              "      <td>...</td>\n",
              "      <td>...</td>\n",
              "      <td>...</td>\n",
              "      <td>...</td>\n",
              "      <td>...</td>\n",
              "      <td>...</td>\n",
              "      <td>...</td>\n",
              "      <td>...</td>\n",
              "      <td>...</td>\n",
              "      <td>...</td>\n",
              "      <td>...</td>\n",
              "      <td>...</td>\n",
              "      <td>...</td>\n",
              "      <td>...</td>\n",
              "      <td>...</td>\n",
              "      <td>...</td>\n",
              "      <td>...</td>\n",
              "    </tr>\n",
              "    <tr>\n",
              "      <th></th>\n",
              "      <td>...</td>\n",
              "      <td>...</td>\n",
              "      <td>...</td>\n",
              "      <td>...</td>\n",
              "      <td>...</td>\n",
              "      <td>...</td>\n",
              "      <td>...</td>\n",
              "      <td>...</td>\n",
              "      <td>...</td>\n",
              "      <td>...</td>\n",
              "      <td>...</td>\n",
              "      <td>...</td>\n",
              "      <td>...</td>\n",
              "      <td>...</td>\n",
              "      <td>...</td>\n",
              "      <td>...</td>\n",
              "      <td>...</td>\n",
              "      <td>...</td>\n",
              "      <td>...</td>\n",
              "      <td>...</td>\n",
              "      <td>...</td>\n",
              "      <td>...</td>\n",
              "    </tr>\n",
              "    <tr>\n",
              "      <th></th>\n",
              "      <td>...</td>\n",
              "      <td>...</td>\n",
              "      <td>...</td>\n",
              "      <td>...</td>\n",
              "      <td>...</td>\n",
              "      <td>...</td>\n",
              "      <td>...</td>\n",
              "      <td>...</td>\n",
              "      <td>...</td>\n",
              "      <td>...</td>\n",
              "      <td>...</td>\n",
              "      <td>...</td>\n",
              "      <td>...</td>\n",
              "      <td>...</td>\n",
              "      <td>...</td>\n",
              "      <td>...</td>\n",
              "      <td>...</td>\n",
              "      <td>...</td>\n",
              "      <td>...</td>\n",
              "      <td>...</td>\n",
              "      <td>...</td>\n",
              "      <td>...</td>\n",
              "    </tr>\n",
              "  </tbody>\n",
              "</table>\n",
              "</div>\n",
              "<div>Dask Name: drop_by_shallow_copy, 35 graph layers</div>"
            ]
          },
          "metadata": {},
          "execution_count": 20
        }
      ]
    },
    {
      "cell_type": "code",
      "source": [
        "new_data = trade_data.drop(['v','country_code_exporter','country_name_abbreviation_exporter','country_name_full_exporter','iso_2digit_alpha_exporter'\n",
        "                           ,'iso_3digit_alpha_exporter','country_code_importer','country_name_abbreviation_importer','country_name_full_importer',\n",
        "                           'iso_2digit_alpha_importer','iso_3digit_alpha_importer','code','description'], axis=1)"
      ],
      "metadata": {
        "id": "Dqq6bKbFuEjy"
      },
      "execution_count": 21,
      "outputs": []
    },
    {
      "cell_type": "code",
      "source": [
        "new_data['k'] = new_data['k'].astype(int)"
      ],
      "metadata": {
        "id": "uODlIF1AuF9O"
      },
      "execution_count": 22,
      "outputs": []
    },
    {
      "cell_type": "code",
      "source": [
        "# Convert int64 columns to int32\n",
        "new_data['t'] = new_data['t'].astype('int32')\n",
        "new_data['i'] = new_data['i'].astype('int32')\n",
        "new_data['j'] = new_data['j'].astype('int32')\n",
        "new_data['k'] = new_data['k'].astype('int32')\n",
        "\n",
        "# Convert float64 columns to float32\n",
        "float_cols = ['q', 'gdp_exporter', 'population_exporter', 'gdp_importer', 'population_importer']\n",
        "for col in float_cols:\n",
        "    new_data[col] = new_data[col].astype('float32')"
      ],
      "metadata": {
        "id": "gcxwvEvZuJuk"
      },
      "execution_count": 28,
      "outputs": []
    },
    {
      "cell_type": "code",
      "source": [
        "new_data"
      ],
      "metadata": {
        "colab": {
          "base_uri": "https://localhost:8080/",
          "height": 241
        },
        "id": "iGyYewd3uUaW",
        "outputId": "27a7842a-d56b-4115-dca2-f7a5cf574c43"
      },
      "execution_count": 29,
      "outputs": [
        {
          "output_type": "execute_result",
          "data": {
            "text/plain": [
              "Dask DataFrame Structure:\n",
              "                   t      i      j      k        q gdp_exporter population_exporter gdp_importer population_importer\n",
              "npartitions=3                                                                                                       \n",
              "               int32  int32  int32  int32  float32      float32             float32      float32             float32\n",
              "                 ...    ...    ...    ...      ...          ...                 ...          ...                 ...\n",
              "                 ...    ...    ...    ...      ...          ...                 ...          ...                 ...\n",
              "                 ...    ...    ...    ...      ...          ...                 ...          ...                 ...\n",
              "Dask Name: assign, 112 graph layers"
            ],
            "text/html": [
              "<div><strong>Dask DataFrame Structure:</strong></div>\n",
              "<div>\n",
              "<style scoped>\n",
              "    .dataframe tbody tr th:only-of-type {\n",
              "        vertical-align: middle;\n",
              "    }\n",
              "\n",
              "    .dataframe tbody tr th {\n",
              "        vertical-align: top;\n",
              "    }\n",
              "\n",
              "    .dataframe thead th {\n",
              "        text-align: right;\n",
              "    }\n",
              "</style>\n",
              "<table border=\"1\" class=\"dataframe\">\n",
              "  <thead>\n",
              "    <tr style=\"text-align: right;\">\n",
              "      <th></th>\n",
              "      <th>t</th>\n",
              "      <th>i</th>\n",
              "      <th>j</th>\n",
              "      <th>k</th>\n",
              "      <th>q</th>\n",
              "      <th>gdp_exporter</th>\n",
              "      <th>population_exporter</th>\n",
              "      <th>gdp_importer</th>\n",
              "      <th>population_importer</th>\n",
              "    </tr>\n",
              "    <tr>\n",
              "      <th>npartitions=3</th>\n",
              "      <th></th>\n",
              "      <th></th>\n",
              "      <th></th>\n",
              "      <th></th>\n",
              "      <th></th>\n",
              "      <th></th>\n",
              "      <th></th>\n",
              "      <th></th>\n",
              "      <th></th>\n",
              "    </tr>\n",
              "  </thead>\n",
              "  <tbody>\n",
              "    <tr>\n",
              "      <th></th>\n",
              "      <td>int32</td>\n",
              "      <td>int32</td>\n",
              "      <td>int32</td>\n",
              "      <td>int32</td>\n",
              "      <td>float32</td>\n",
              "      <td>float32</td>\n",
              "      <td>float32</td>\n",
              "      <td>float32</td>\n",
              "      <td>float32</td>\n",
              "    </tr>\n",
              "    <tr>\n",
              "      <th></th>\n",
              "      <td>...</td>\n",
              "      <td>...</td>\n",
              "      <td>...</td>\n",
              "      <td>...</td>\n",
              "      <td>...</td>\n",
              "      <td>...</td>\n",
              "      <td>...</td>\n",
              "      <td>...</td>\n",
              "      <td>...</td>\n",
              "    </tr>\n",
              "    <tr>\n",
              "      <th></th>\n",
              "      <td>...</td>\n",
              "      <td>...</td>\n",
              "      <td>...</td>\n",
              "      <td>...</td>\n",
              "      <td>...</td>\n",
              "      <td>...</td>\n",
              "      <td>...</td>\n",
              "      <td>...</td>\n",
              "      <td>...</td>\n",
              "    </tr>\n",
              "    <tr>\n",
              "      <th></th>\n",
              "      <td>...</td>\n",
              "      <td>...</td>\n",
              "      <td>...</td>\n",
              "      <td>...</td>\n",
              "      <td>...</td>\n",
              "      <td>...</td>\n",
              "      <td>...</td>\n",
              "      <td>...</td>\n",
              "      <td>...</td>\n",
              "    </tr>\n",
              "  </tbody>\n",
              "</table>\n",
              "</div>\n",
              "<div>Dask Name: assign, 112 graph layers</div>"
            ]
          },
          "metadata": {},
          "execution_count": 29
        }
      ]
    },
    {
      "cell_type": "code",
      "source": [
        "# Drop rows with any missing values\n",
        "new_data_clean = new_data.dropna()\n",
        "\n",
        "# If you want to ensure that changes are computed and stored back to new_data\n",
        "new_data_clean = new_data_clean.persist()"
      ],
      "metadata": {
        "id": "rIpj870OusEF"
      },
      "execution_count": 30,
      "outputs": []
    },
    {
      "cell_type": "code",
      "source": [
        "new_data_clean"
      ],
      "metadata": {
        "colab": {
          "base_uri": "https://localhost:8080/",
          "height": 241
        },
        "id": "qX0E0FyIu70q",
        "outputId": "01c3c293-9829-4031-c0f5-2de6060f6eea"
      },
      "execution_count": 31,
      "outputs": [
        {
          "output_type": "execute_result",
          "data": {
            "text/plain": [
              "Dask DataFrame Structure:\n",
              "                   t      i      j      k        q gdp_exporter population_exporter gdp_importer population_importer\n",
              "npartitions=3                                                                                                       \n",
              "               int32  int32  int32  int32  float32      float32             float32      float32             float32\n",
              "                 ...    ...    ...    ...      ...          ...                 ...          ...                 ...\n",
              "                 ...    ...    ...    ...      ...          ...                 ...          ...                 ...\n",
              "                 ...    ...    ...    ...      ...          ...                 ...          ...                 ...\n",
              "Dask Name: dropna, 1 graph layer"
            ],
            "text/html": [
              "<div><strong>Dask DataFrame Structure:</strong></div>\n",
              "<div>\n",
              "<style scoped>\n",
              "    .dataframe tbody tr th:only-of-type {\n",
              "        vertical-align: middle;\n",
              "    }\n",
              "\n",
              "    .dataframe tbody tr th {\n",
              "        vertical-align: top;\n",
              "    }\n",
              "\n",
              "    .dataframe thead th {\n",
              "        text-align: right;\n",
              "    }\n",
              "</style>\n",
              "<table border=\"1\" class=\"dataframe\">\n",
              "  <thead>\n",
              "    <tr style=\"text-align: right;\">\n",
              "      <th></th>\n",
              "      <th>t</th>\n",
              "      <th>i</th>\n",
              "      <th>j</th>\n",
              "      <th>k</th>\n",
              "      <th>q</th>\n",
              "      <th>gdp_exporter</th>\n",
              "      <th>population_exporter</th>\n",
              "      <th>gdp_importer</th>\n",
              "      <th>population_importer</th>\n",
              "    </tr>\n",
              "    <tr>\n",
              "      <th>npartitions=3</th>\n",
              "      <th></th>\n",
              "      <th></th>\n",
              "      <th></th>\n",
              "      <th></th>\n",
              "      <th></th>\n",
              "      <th></th>\n",
              "      <th></th>\n",
              "      <th></th>\n",
              "      <th></th>\n",
              "    </tr>\n",
              "  </thead>\n",
              "  <tbody>\n",
              "    <tr>\n",
              "      <th></th>\n",
              "      <td>int32</td>\n",
              "      <td>int32</td>\n",
              "      <td>int32</td>\n",
              "      <td>int32</td>\n",
              "      <td>float32</td>\n",
              "      <td>float32</td>\n",
              "      <td>float32</td>\n",
              "      <td>float32</td>\n",
              "      <td>float32</td>\n",
              "    </tr>\n",
              "    <tr>\n",
              "      <th></th>\n",
              "      <td>...</td>\n",
              "      <td>...</td>\n",
              "      <td>...</td>\n",
              "      <td>...</td>\n",
              "      <td>...</td>\n",
              "      <td>...</td>\n",
              "      <td>...</td>\n",
              "      <td>...</td>\n",
              "      <td>...</td>\n",
              "    </tr>\n",
              "    <tr>\n",
              "      <th></th>\n",
              "      <td>...</td>\n",
              "      <td>...</td>\n",
              "      <td>...</td>\n",
              "      <td>...</td>\n",
              "      <td>...</td>\n",
              "      <td>...</td>\n",
              "      <td>...</td>\n",
              "      <td>...</td>\n",
              "      <td>...</td>\n",
              "    </tr>\n",
              "    <tr>\n",
              "      <th></th>\n",
              "      <td>...</td>\n",
              "      <td>...</td>\n",
              "      <td>...</td>\n",
              "      <td>...</td>\n",
              "      <td>...</td>\n",
              "      <td>...</td>\n",
              "      <td>...</td>\n",
              "      <td>...</td>\n",
              "      <td>...</td>\n",
              "    </tr>\n",
              "  </tbody>\n",
              "</table>\n",
              "</div>\n",
              "<div>Dask Name: dropna, 1 graph layer</div>"
            ]
          },
          "metadata": {},
          "execution_count": 31
        }
      ]
    },
    {
      "cell_type": "code",
      "source": [
        "pip install dask-ml"
      ],
      "metadata": {
        "colab": {
          "base_uri": "https://localhost:8080/"
        },
        "id": "ES9IqOE4w_CI",
        "outputId": "4e208d77-570e-4bf5-ba95-7f38f2d40e29"
      },
      "execution_count": 33,
      "outputs": [
        {
          "output_type": "stream",
          "name": "stdout",
          "text": [
            "Collecting dask-ml\n",
            "  Downloading dask_ml-2024.4.4-py3-none-any.whl (149 kB)\n",
            "\u001b[2K     \u001b[90m━━━━━━━━━━━━━━━━━━━━━━━━━━━━━━━━━━━━━━━━\u001b[0m \u001b[32m149.8/149.8 kB\u001b[0m \u001b[31m3.1 MB/s\u001b[0m eta \u001b[36m0:00:00\u001b[0m\n",
            "\u001b[?25hCollecting dask-glm>=0.2.0 (from dask-ml)\n",
            "  Downloading dask_glm-0.3.2-py2.py3-none-any.whl (13 kB)\n",
            "Requirement already satisfied: dask[array,dataframe]>=2.4.0 in /usr/local/lib/python3.10/dist-packages (from dask-ml) (2023.8.1)\n",
            "Requirement already satisfied: distributed>=2.4.0 in /usr/local/lib/python3.10/dist-packages (from dask-ml) (2023.8.1)\n",
            "Requirement already satisfied: multipledispatch>=0.4.9 in /usr/local/lib/python3.10/dist-packages (from dask-ml) (1.0.0)\n",
            "Requirement already satisfied: numba>=0.51.0 in /usr/local/lib/python3.10/dist-packages (from dask-ml) (0.58.1)\n",
            "Requirement already satisfied: numpy>=1.20.0 in /usr/local/lib/python3.10/dist-packages (from dask-ml) (1.25.2)\n",
            "Requirement already satisfied: packaging in /usr/local/lib/python3.10/dist-packages (from dask-ml) (24.0)\n",
            "Requirement already satisfied: pandas>=0.24.2 in /usr/local/lib/python3.10/dist-packages (from dask-ml) (2.0.3)\n",
            "Requirement already satisfied: scikit-learn>=1.2.0 in /usr/local/lib/python3.10/dist-packages (from dask-ml) (1.2.2)\n",
            "Requirement already satisfied: scipy in /usr/local/lib/python3.10/dist-packages (from dask-ml) (1.11.4)\n",
            "Requirement already satisfied: cloudpickle>=0.2.2 in /usr/local/lib/python3.10/dist-packages (from dask-glm>=0.2.0->dask-ml) (2.2.1)\n",
            "Collecting sparse>=0.7.0 (from dask-glm>=0.2.0->dask-ml)\n",
            "  Downloading sparse-0.15.1-py2.py3-none-any.whl (116 kB)\n",
            "\u001b[2K     \u001b[90m━━━━━━━━━━━━━━━━━━━━━━━━━━━━━━━━━━━━━━━━\u001b[0m \u001b[32m116.3/116.3 kB\u001b[0m \u001b[31m8.8 MB/s\u001b[0m eta \u001b[36m0:00:00\u001b[0m\n",
            "\u001b[?25hRequirement already satisfied: click>=8.0 in /usr/local/lib/python3.10/dist-packages (from dask[array,dataframe]>=2.4.0->dask-ml) (8.1.7)\n",
            "Requirement already satisfied: fsspec>=2021.09.0 in /usr/local/lib/python3.10/dist-packages (from dask[array,dataframe]>=2.4.0->dask-ml) (2023.6.0)\n",
            "Requirement already satisfied: partd>=1.2.0 in /usr/local/lib/python3.10/dist-packages (from dask[array,dataframe]>=2.4.0->dask-ml) (1.4.1)\n",
            "Requirement already satisfied: pyyaml>=5.3.1 in /usr/local/lib/python3.10/dist-packages (from dask[array,dataframe]>=2.4.0->dask-ml) (6.0.1)\n",
            "Requirement already satisfied: toolz>=0.10.0 in /usr/local/lib/python3.10/dist-packages (from dask[array,dataframe]>=2.4.0->dask-ml) (0.12.1)\n",
            "Requirement already satisfied: importlib-metadata>=4.13.0 in /usr/local/lib/python3.10/dist-packages (from dask[array,dataframe]>=2.4.0->dask-ml) (7.1.0)\n",
            "Requirement already satisfied: jinja2>=2.10.3 in /usr/local/lib/python3.10/dist-packages (from distributed>=2.4.0->dask-ml) (3.1.3)\n",
            "Requirement already satisfied: locket>=1.0.0 in /usr/local/lib/python3.10/dist-packages (from distributed>=2.4.0->dask-ml) (1.0.0)\n",
            "Requirement already satisfied: msgpack>=1.0.0 in /usr/local/lib/python3.10/dist-packages (from distributed>=2.4.0->dask-ml) (1.0.8)\n",
            "Requirement already satisfied: psutil>=5.7.2 in /usr/local/lib/python3.10/dist-packages (from distributed>=2.4.0->dask-ml) (5.9.5)\n",
            "Requirement already satisfied: sortedcontainers>=2.0.5 in /usr/local/lib/python3.10/dist-packages (from distributed>=2.4.0->dask-ml) (2.4.0)\n",
            "Requirement already satisfied: tblib>=1.6.0 in /usr/local/lib/python3.10/dist-packages (from distributed>=2.4.0->dask-ml) (3.0.0)\n",
            "Requirement already satisfied: tornado>=6.0.4 in /usr/local/lib/python3.10/dist-packages (from distributed>=2.4.0->dask-ml) (6.3.3)\n",
            "Requirement already satisfied: urllib3>=1.24.3 in /usr/local/lib/python3.10/dist-packages (from distributed>=2.4.0->dask-ml) (2.0.7)\n",
            "Requirement already satisfied: zict>=2.2.0 in /usr/local/lib/python3.10/dist-packages (from distributed>=2.4.0->dask-ml) (3.0.0)\n",
            "Requirement already satisfied: llvmlite<0.42,>=0.41.0dev0 in /usr/local/lib/python3.10/dist-packages (from numba>=0.51.0->dask-ml) (0.41.1)\n",
            "Requirement already satisfied: python-dateutil>=2.8.2 in /usr/local/lib/python3.10/dist-packages (from pandas>=0.24.2->dask-ml) (2.8.2)\n",
            "Requirement already satisfied: pytz>=2020.1 in /usr/local/lib/python3.10/dist-packages (from pandas>=0.24.2->dask-ml) (2023.4)\n",
            "Requirement already satisfied: tzdata>=2022.1 in /usr/local/lib/python3.10/dist-packages (from pandas>=0.24.2->dask-ml) (2024.1)\n",
            "Requirement already satisfied: joblib>=1.1.1 in /usr/local/lib/python3.10/dist-packages (from scikit-learn>=1.2.0->dask-ml) (1.4.0)\n",
            "Requirement already satisfied: threadpoolctl>=2.0.0 in /usr/local/lib/python3.10/dist-packages (from scikit-learn>=1.2.0->dask-ml) (3.5.0)\n",
            "Requirement already satisfied: zipp>=0.5 in /usr/local/lib/python3.10/dist-packages (from importlib-metadata>=4.13.0->dask[array,dataframe]>=2.4.0->dask-ml) (3.18.1)\n",
            "Requirement already satisfied: MarkupSafe>=2.0 in /usr/local/lib/python3.10/dist-packages (from jinja2>=2.10.3->distributed>=2.4.0->dask-ml) (2.1.5)\n",
            "Requirement already satisfied: six>=1.5 in /usr/local/lib/python3.10/dist-packages (from python-dateutil>=2.8.2->pandas>=0.24.2->dask-ml) (1.16.0)\n",
            "Installing collected packages: sparse, dask-glm, dask-ml\n",
            "Successfully installed dask-glm-0.3.2 dask-ml-2024.4.4 sparse-0.15.1\n"
          ]
        }
      ]
    },
    {
      "cell_type": "code",
      "source": [
        "from dask_ml.model_selection import train_test_split\n",
        "\n",
        "# 'q' is the target variable and the rest are features\n",
        "X = new_data_clean.drop('q', axis=1)\n",
        "y = new_data_clean['q']\n",
        "\n",
        "# splitting\n",
        "X_train, X_test, y_train, y_test = train_test_split(X, y, test_size=0.2, random_state=42, shuffle=True)"
      ],
      "metadata": {
        "id": "8VW53DZpwihi"
      },
      "execution_count": 35,
      "outputs": []
    },
    {
      "cell_type": "code",
      "source": [
        "from sklearn.preprocessing import StandardScaler\n",
        "from dask_ml.wrappers import Incremental\n",
        "\n",
        "#feature engineering： scaling the data.\n",
        "scaler = StandardScaler()\n",
        "X_train_scaled = scaler.fit_transform(X_train)\n",
        "X_test_scaled = scaler.transform(X_test)\n",
        "\n",
        "# Converting back to Dask DataFrame for compatibility with dask-ml\n",
        "X_train_scaled = dd.from_array(X_train_scaled, columns=X_train.columns)\n",
        "X_test_scaled = dd.from_array(X_test_scaled, columns=X_test.columns)"
      ],
      "metadata": {
        "id": "efO7x1lqxh-G"
      },
      "execution_count": 36,
      "outputs": []
    },
    {
      "cell_type": "markdown",
      "source": [
        "We'll use GridSearchCV from Dask-ML to find the optimal parameters for the Random Forest and Gradient Boosting models. For the neural network, due to its typically higher complexity and computational demand, a simple parameter set will be used."
      ],
      "metadata": {
        "id": "YCaV7RhfxwCg"
      }
    },
    {
      "cell_type": "code",
      "source": [
        "from dask_ml.model_selection import GridSearchCV\n",
        "from sklearn.ensemble import RandomForestRegressor, GradientBoostingRegressor\n",
        "from sklearn.neural_network import MLPRegressor\n",
        "\n",
        "# Random Forest\n",
        "rf = RandomForestRegressor(random_state=42)\n",
        "param_grid_rf = {'n_estimators': [50, 100], 'max_depth': [10, 20]}\n",
        "grid_rf = GridSearchCV(rf, param_grid_rf, cv=3)\n",
        "grid_rf.fit(X_train_scaled.compute(), y_train.compute())  # Using compute for compatibility with Scikit-Learn's GridSearchCV\n",
        "\n",
        "# Gradient Boosting\n",
        "gb = GradientBoostingRegressor(random_state=42)\n",
        "param_grid_gb = {'n_estimators': [50, 100], 'learning_rate': [0.1, 0.01]}\n",
        "grid_gb = GridSearchCV(gb, param_grid_gb, cv=3)\n",
        "grid_gb.fit(X_train_scaled.compute(), y_train.compute())\n",
        "\n",
        "# Neural Network\n",
        "nn = MLPRegressor(random_state=42, max_iter=500)\n",
        "nn.fit(X_train_scaled.compute(), y_train.compute())"
      ],
      "metadata": {
        "colab": {
          "base_uri": "https://localhost:8080/",
          "height": 75
        },
        "id": "MxpMyvr5xyqD",
        "outputId": "82a20cff-2fe0-41c1-943a-609ae3c52245"
      },
      "execution_count": 37,
      "outputs": [
        {
          "output_type": "execute_result",
          "data": {
            "text/plain": [
              "MLPRegressor(max_iter=500, random_state=42)"
            ],
            "text/html": [
              "<style>#sk-container-id-1 {color: black;background-color: white;}#sk-container-id-1 pre{padding: 0;}#sk-container-id-1 div.sk-toggleable {background-color: white;}#sk-container-id-1 label.sk-toggleable__label {cursor: pointer;display: block;width: 100%;margin-bottom: 0;padding: 0.3em;box-sizing: border-box;text-align: center;}#sk-container-id-1 label.sk-toggleable__label-arrow:before {content: \"▸\";float: left;margin-right: 0.25em;color: #696969;}#sk-container-id-1 label.sk-toggleable__label-arrow:hover:before {color: black;}#sk-container-id-1 div.sk-estimator:hover label.sk-toggleable__label-arrow:before {color: black;}#sk-container-id-1 div.sk-toggleable__content {max-height: 0;max-width: 0;overflow: hidden;text-align: left;background-color: #f0f8ff;}#sk-container-id-1 div.sk-toggleable__content pre {margin: 0.2em;color: black;border-radius: 0.25em;background-color: #f0f8ff;}#sk-container-id-1 input.sk-toggleable__control:checked~div.sk-toggleable__content {max-height: 200px;max-width: 100%;overflow: auto;}#sk-container-id-1 input.sk-toggleable__control:checked~label.sk-toggleable__label-arrow:before {content: \"▾\";}#sk-container-id-1 div.sk-estimator input.sk-toggleable__control:checked~label.sk-toggleable__label {background-color: #d4ebff;}#sk-container-id-1 div.sk-label input.sk-toggleable__control:checked~label.sk-toggleable__label {background-color: #d4ebff;}#sk-container-id-1 input.sk-hidden--visually {border: 0;clip: rect(1px 1px 1px 1px);clip: rect(1px, 1px, 1px, 1px);height: 1px;margin: -1px;overflow: hidden;padding: 0;position: absolute;width: 1px;}#sk-container-id-1 div.sk-estimator {font-family: monospace;background-color: #f0f8ff;border: 1px dotted black;border-radius: 0.25em;box-sizing: border-box;margin-bottom: 0.5em;}#sk-container-id-1 div.sk-estimator:hover {background-color: #d4ebff;}#sk-container-id-1 div.sk-parallel-item::after {content: \"\";width: 100%;border-bottom: 1px solid gray;flex-grow: 1;}#sk-container-id-1 div.sk-label:hover label.sk-toggleable__label {background-color: #d4ebff;}#sk-container-id-1 div.sk-serial::before {content: \"\";position: absolute;border-left: 1px solid gray;box-sizing: border-box;top: 0;bottom: 0;left: 50%;z-index: 0;}#sk-container-id-1 div.sk-serial {display: flex;flex-direction: column;align-items: center;background-color: white;padding-right: 0.2em;padding-left: 0.2em;position: relative;}#sk-container-id-1 div.sk-item {position: relative;z-index: 1;}#sk-container-id-1 div.sk-parallel {display: flex;align-items: stretch;justify-content: center;background-color: white;position: relative;}#sk-container-id-1 div.sk-item::before, #sk-container-id-1 div.sk-parallel-item::before {content: \"\";position: absolute;border-left: 1px solid gray;box-sizing: border-box;top: 0;bottom: 0;left: 50%;z-index: -1;}#sk-container-id-1 div.sk-parallel-item {display: flex;flex-direction: column;z-index: 1;position: relative;background-color: white;}#sk-container-id-1 div.sk-parallel-item:first-child::after {align-self: flex-end;width: 50%;}#sk-container-id-1 div.sk-parallel-item:last-child::after {align-self: flex-start;width: 50%;}#sk-container-id-1 div.sk-parallel-item:only-child::after {width: 0;}#sk-container-id-1 div.sk-dashed-wrapped {border: 1px dashed gray;margin: 0 0.4em 0.5em 0.4em;box-sizing: border-box;padding-bottom: 0.4em;background-color: white;}#sk-container-id-1 div.sk-label label {font-family: monospace;font-weight: bold;display: inline-block;line-height: 1.2em;}#sk-container-id-1 div.sk-label-container {text-align: center;}#sk-container-id-1 div.sk-container {/* jupyter's `normalize.less` sets `[hidden] { display: none; }` but bootstrap.min.css set `[hidden] { display: none !important; }` so we also need the `!important` here to be able to override the default hidden behavior on the sphinx rendered scikit-learn.org. See: https://github.com/scikit-learn/scikit-learn/issues/21755 */display: inline-block !important;position: relative;}#sk-container-id-1 div.sk-text-repr-fallback {display: none;}</style><div id=\"sk-container-id-1\" class=\"sk-top-container\"><div class=\"sk-text-repr-fallback\"><pre>MLPRegressor(max_iter=500, random_state=42)</pre><b>In a Jupyter environment, please rerun this cell to show the HTML representation or trust the notebook. <br />On GitHub, the HTML representation is unable to render, please try loading this page with nbviewer.org.</b></div><div class=\"sk-container\" hidden><div class=\"sk-item\"><div class=\"sk-estimator sk-toggleable\"><input class=\"sk-toggleable__control sk-hidden--visually\" id=\"sk-estimator-id-1\" type=\"checkbox\" checked><label for=\"sk-estimator-id-1\" class=\"sk-toggleable__label sk-toggleable__label-arrow\">MLPRegressor</label><div class=\"sk-toggleable__content\"><pre>MLPRegressor(max_iter=500, random_state=42)</pre></div></div></div></div></div>"
            ]
          },
          "metadata": {},
          "execution_count": 37
        }
      ]
    },
    {
      "cell_type": "code",
      "source": [
        "from sklearn.metrics import mean_squared_error, mean_absolute_error, r2_score\n",
        "\n",
        "# Predictions\n",
        "y_pred_rf = grid_rf.predict(X_test_scaled.compute())\n",
        "y_pred_gb = grid_gb.predict(X_test_scaled.compute())\n",
        "y_pred_nn = nn.predict(X_test_scaled.compute())\n",
        "\n",
        "# Evaluation\n",
        "mse_rf = mean_squared_error(y_test.compute(), y_pred_rf)\n",
        "mae_rf = mean_absolute_error(y_test.compute(), y_pred_rf)\n",
        "r2_rf = r2_score(y_test.compute(), y_pred_rf)\n",
        "\n",
        "mse_gb = mean_squared_error(y_test.compute(), y_pred_gb)\n",
        "mae_gb = mean_absolute_error(y_test.compute(), y_pred_gb)\n",
        "r2_gb = r2_score(y_test.compute(), y_pred_gb)\n",
        "\n",
        "mse_nn = mean_squared_error(y_test.compute(), y_pred_nn)\n",
        "mae_nn = mean_absolute_error(y_test.compute(), y_pred_nn)\n",
        "r2_nn = r2_score(y_test.compute(), y_pred_nn)\n",
        "\n",
        "print(\"Random Forest - MSE:\", mse_rf, \"MAE:\", mae_rf, \"R^2:\", r2_rf)\n",
        "print(\"Gradient Boosting - MSE:\", mse_gb, \"MAE:\", mae_gb, \"R^2:\", r2_gb)\n",
        "print(\"Neural Network - MSE:\", mse_nn, \"MAE:\", mae_nn, \"R^2:\", r2_nn)"
      ],
      "metadata": {
        "colab": {
          "base_uri": "https://localhost:8080/"
        },
        "id": "wzj5CQpc2LOb",
        "outputId": "047ed106-7a8a-484c-d5e3-df37a9bd88b7"
      },
      "execution_count": 38,
      "outputs": [
        {
          "output_type": "stream",
          "name": "stdout",
          "text": [
            "Random Forest - MSE: 248434160117.4171 MAE: 3726.5339390363015 R^2: -0.7616149848191338\n",
            "Gradient Boosting - MSE: 154185221037.16415 MAE: 6320.245772361284 R^2: -0.09330776286298836\n",
            "Neural Network - MSE: 140923606551.18076 MAE: 5813.59412791831 R^2: 0.000728656244437853\n"
          ]
        }
      ]
    }
  ]
}