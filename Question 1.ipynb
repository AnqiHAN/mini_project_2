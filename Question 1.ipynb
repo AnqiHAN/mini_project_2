{
 "cells": [
  {
   "cell_type": "code",
   "execution_count": 1,
   "id": "450d810f",
   "metadata": {},
   "outputs": [],
   "source": [
    "import dask\n",
    "import dask.dataframe as dd\n",
    "from dask.distributed import Client, progress\n",
    "import os"
   ]
  },
  {
   "cell_type": "code",
   "execution_count": 2,
   "id": "1aa5e609",
   "metadata": {},
   "outputs": [
    {
     "name": "stderr",
     "output_type": "stream",
     "text": [
      "D:\\anacond\\lib\\site-packages\\distributed\\node.py:180: UserWarning: Port 8787 is already in use.\n",
      "Perhaps you already have a cluster running?\n",
      "Hosting the HTTP server on port 60114 instead\n",
      "  warnings.warn(\n"
     ]
    },
    {
     "data": {
      "text/html": [
       "<div>\n",
       "    <div style=\"width: 24px; height: 24px; background-color: #e1e1e1; border: 3px solid #9D9D9D; border-radius: 5px; position: absolute;\"> </div>\n",
       "    <div style=\"margin-left: 48px;\">\n",
       "        <h3 style=\"margin-bottom: 0px;\">Client</h3>\n",
       "        <p style=\"color: #9D9D9D; margin-bottom: 0px;\">Client-d209d87d-0abe-11ef-8884-a4c3f08eea12</p>\n",
       "        <table style=\"width: 100%; text-align: left;\">\n",
       "\n",
       "        <tr>\n",
       "        \n",
       "            <td style=\"text-align: left;\"><strong>Connection method:</strong> Cluster object</td>\n",
       "            <td style=\"text-align: left;\"><strong>Cluster type:</strong> distributed.LocalCluster</td>\n",
       "        \n",
       "        </tr>\n",
       "\n",
       "        \n",
       "            <tr>\n",
       "                <td style=\"text-align: left;\">\n",
       "                    <strong>Dashboard: </strong> <a href=\"http://127.0.0.1:60114/status\" target=\"_blank\">http://127.0.0.1:60114/status</a>\n",
       "                </td>\n",
       "                <td style=\"text-align: left;\"></td>\n",
       "            </tr>\n",
       "        \n",
       "\n",
       "        </table>\n",
       "\n",
       "        \n",
       "            <details>\n",
       "            <summary style=\"margin-bottom: 20px;\"><h3 style=\"display: inline;\">Cluster Info</h3></summary>\n",
       "            <div class=\"jp-RenderedHTMLCommon jp-RenderedHTML jp-mod-trusted jp-OutputArea-output\">\n",
       "    <div style=\"width: 24px; height: 24px; background-color: #e1e1e1; border: 3px solid #9D9D9D; border-radius: 5px; position: absolute;\">\n",
       "    </div>\n",
       "    <div style=\"margin-left: 48px;\">\n",
       "        <h3 style=\"margin-bottom: 0px; margin-top: 0px;\">LocalCluster</h3>\n",
       "        <p style=\"color: #9D9D9D; margin-bottom: 0px;\">d1ca711b</p>\n",
       "        <table style=\"width: 100%; text-align: left;\">\n",
       "            <tr>\n",
       "                <td style=\"text-align: left;\">\n",
       "                    <strong>Dashboard:</strong> <a href=\"http://127.0.0.1:60114/status\" target=\"_blank\">http://127.0.0.1:60114/status</a>\n",
       "                </td>\n",
       "                <td style=\"text-align: left;\">\n",
       "                    <strong>Workers:</strong> 2\n",
       "                </td>\n",
       "            </tr>\n",
       "            <tr>\n",
       "                <td style=\"text-align: left;\">\n",
       "                    <strong>Total threads:</strong> 4\n",
       "                </td>\n",
       "                <td style=\"text-align: left;\">\n",
       "                    <strong>Total memory:</strong> 9.31 GiB\n",
       "                </td>\n",
       "            </tr>\n",
       "            \n",
       "            <tr>\n",
       "    <td style=\"text-align: left;\"><strong>Status:</strong> running</td>\n",
       "    <td style=\"text-align: left;\"><strong>Using processes:</strong> True</td>\n",
       "</tr>\n",
       "\n",
       "            \n",
       "        </table>\n",
       "\n",
       "        <details>\n",
       "            <summary style=\"margin-bottom: 20px;\">\n",
       "                <h3 style=\"display: inline;\">Scheduler Info</h3>\n",
       "            </summary>\n",
       "\n",
       "            <div style=\"\">\n",
       "    <div>\n",
       "        <div style=\"width: 24px; height: 24px; background-color: #FFF7E5; border: 3px solid #FF6132; border-radius: 5px; position: absolute;\"> </div>\n",
       "        <div style=\"margin-left: 48px;\">\n",
       "            <h3 style=\"margin-bottom: 0px;\">Scheduler</h3>\n",
       "            <p style=\"color: #9D9D9D; margin-bottom: 0px;\">Scheduler-44b0a6a2-5bcf-4259-8027-7fa4c3d1c8cb</p>\n",
       "            <table style=\"width: 100%; text-align: left;\">\n",
       "                <tr>\n",
       "                    <td style=\"text-align: left;\">\n",
       "                        <strong>Comm:</strong> tcp://127.0.0.1:60115\n",
       "                    </td>\n",
       "                    <td style=\"text-align: left;\">\n",
       "                        <strong>Workers:</strong> 2\n",
       "                    </td>\n",
       "                </tr>\n",
       "                <tr>\n",
       "                    <td style=\"text-align: left;\">\n",
       "                        <strong>Dashboard:</strong> <a href=\"http://127.0.0.1:60114/status\" target=\"_blank\">http://127.0.0.1:60114/status</a>\n",
       "                    </td>\n",
       "                    <td style=\"text-align: left;\">\n",
       "                        <strong>Total threads:</strong> 4\n",
       "                    </td>\n",
       "                </tr>\n",
       "                <tr>\n",
       "                    <td style=\"text-align: left;\">\n",
       "                        <strong>Started:</strong> Just now\n",
       "                    </td>\n",
       "                    <td style=\"text-align: left;\">\n",
       "                        <strong>Total memory:</strong> 9.31 GiB\n",
       "                    </td>\n",
       "                </tr>\n",
       "            </table>\n",
       "        </div>\n",
       "    </div>\n",
       "\n",
       "    <details style=\"margin-left: 48px;\">\n",
       "        <summary style=\"margin-bottom: 20px;\">\n",
       "            <h3 style=\"display: inline;\">Workers</h3>\n",
       "        </summary>\n",
       "\n",
       "        \n",
       "        <div style=\"margin-bottom: 20px;\">\n",
       "            <div style=\"width: 24px; height: 24px; background-color: #DBF5FF; border: 3px solid #4CC9FF; border-radius: 5px; position: absolute;\"> </div>\n",
       "            <div style=\"margin-left: 48px;\">\n",
       "            <details>\n",
       "                <summary>\n",
       "                    <h4 style=\"margin-bottom: 0px; display: inline;\">Worker: 0</h4>\n",
       "                </summary>\n",
       "                <table style=\"width: 100%; text-align: left;\">\n",
       "                    <tr>\n",
       "                        <td style=\"text-align: left;\">\n",
       "                            <strong>Comm: </strong> tcp://127.0.0.1:60130\n",
       "                        </td>\n",
       "                        <td style=\"text-align: left;\">\n",
       "                            <strong>Total threads: </strong> 2\n",
       "                        </td>\n",
       "                    </tr>\n",
       "                    <tr>\n",
       "                        <td style=\"text-align: left;\">\n",
       "                            <strong>Dashboard: </strong> <a href=\"http://127.0.0.1:60133/status\" target=\"_blank\">http://127.0.0.1:60133/status</a>\n",
       "                        </td>\n",
       "                        <td style=\"text-align: left;\">\n",
       "                            <strong>Memory: </strong> 4.66 GiB\n",
       "                        </td>\n",
       "                    </tr>\n",
       "                    <tr>\n",
       "                        <td style=\"text-align: left;\">\n",
       "                            <strong>Nanny: </strong> tcp://127.0.0.1:60118\n",
       "                        </td>\n",
       "                        <td style=\"text-align: left;\"></td>\n",
       "                    </tr>\n",
       "                    <tr>\n",
       "                        <td colspan=\"2\" style=\"text-align: left;\">\n",
       "                            <strong>Local directory: </strong> E:\\HKUST(GZ)\\T2，23-24\\IPEN Data Science\\mini project 2\\dask-worker-space\\worker-o6w9m28n\n",
       "                        </td>\n",
       "                    </tr>\n",
       "\n",
       "                    \n",
       "\n",
       "                    \n",
       "\n",
       "                </table>\n",
       "            </details>\n",
       "            </div>\n",
       "        </div>\n",
       "        \n",
       "        <div style=\"margin-bottom: 20px;\">\n",
       "            <div style=\"width: 24px; height: 24px; background-color: #DBF5FF; border: 3px solid #4CC9FF; border-radius: 5px; position: absolute;\"> </div>\n",
       "            <div style=\"margin-left: 48px;\">\n",
       "            <details>\n",
       "                <summary>\n",
       "                    <h4 style=\"margin-bottom: 0px; display: inline;\">Worker: 1</h4>\n",
       "                </summary>\n",
       "                <table style=\"width: 100%; text-align: left;\">\n",
       "                    <tr>\n",
       "                        <td style=\"text-align: left;\">\n",
       "                            <strong>Comm: </strong> tcp://127.0.0.1:60131\n",
       "                        </td>\n",
       "                        <td style=\"text-align: left;\">\n",
       "                            <strong>Total threads: </strong> 2\n",
       "                        </td>\n",
       "                    </tr>\n",
       "                    <tr>\n",
       "                        <td style=\"text-align: left;\">\n",
       "                            <strong>Dashboard: </strong> <a href=\"http://127.0.0.1:60132/status\" target=\"_blank\">http://127.0.0.1:60132/status</a>\n",
       "                        </td>\n",
       "                        <td style=\"text-align: left;\">\n",
       "                            <strong>Memory: </strong> 4.66 GiB\n",
       "                        </td>\n",
       "                    </tr>\n",
       "                    <tr>\n",
       "                        <td style=\"text-align: left;\">\n",
       "                            <strong>Nanny: </strong> tcp://127.0.0.1:60119\n",
       "                        </td>\n",
       "                        <td style=\"text-align: left;\"></td>\n",
       "                    </tr>\n",
       "                    <tr>\n",
       "                        <td colspan=\"2\" style=\"text-align: left;\">\n",
       "                            <strong>Local directory: </strong> E:\\HKUST(GZ)\\T2，23-24\\IPEN Data Science\\mini project 2\\dask-worker-space\\worker-8hfldi_a\n",
       "                        </td>\n",
       "                    </tr>\n",
       "\n",
       "                    \n",
       "\n",
       "                    \n",
       "\n",
       "                </table>\n",
       "            </details>\n",
       "            </div>\n",
       "        </div>\n",
       "        \n",
       "\n",
       "    </details>\n",
       "</div>\n",
       "\n",
       "        </details>\n",
       "    </div>\n",
       "</div>\n",
       "            </details>\n",
       "        \n",
       "\n",
       "    </div>\n",
       "</div>"
      ],
      "text/plain": [
       "<Client: 'tcp://127.0.0.1:60115' processes=2 threads=4, memory=9.31 GiB>"
      ]
     },
     "execution_count": 2,
     "metadata": {},
     "output_type": "execute_result"
    }
   ],
   "source": [
    "client = Client(n_workers=2, threads_per_worker=2, memory_limit='5GB')\n",
    "client"
   ]
  },
  {
   "cell_type": "markdown",
   "id": "904f3a84",
   "metadata": {},
   "source": [
    "# Read in data using Dask and Match up data"
   ]
  },
  {
   "cell_type": "code",
   "execution_count": 3,
   "id": "0900dae8",
   "metadata": {},
   "outputs": [
    {
     "data": {
      "text/html": [
       "<div><strong>Dask DataFrame Structure:</strong></div>\n",
       "<div>\n",
       "<style scoped>\n",
       "    .dataframe tbody tr th:only-of-type {\n",
       "        vertical-align: middle;\n",
       "    }\n",
       "\n",
       "    .dataframe tbody tr th {\n",
       "        vertical-align: top;\n",
       "    }\n",
       "\n",
       "    .dataframe thead th {\n",
       "        text-align: right;\n",
       "    }\n",
       "</style>\n",
       "<table border=\"1\" class=\"dataframe\">\n",
       "  <thead>\n",
       "    <tr style=\"text-align: right;\">\n",
       "      <th></th>\n",
       "      <th>t</th>\n",
       "      <th>i</th>\n",
       "      <th>j</th>\n",
       "      <th>k</th>\n",
       "      <th>v</th>\n",
       "      <th>q</th>\n",
       "    </tr>\n",
       "    <tr>\n",
       "      <th>npartitions=16</th>\n",
       "      <th></th>\n",
       "      <th></th>\n",
       "      <th></th>\n",
       "      <th></th>\n",
       "      <th></th>\n",
       "      <th></th>\n",
       "    </tr>\n",
       "  </thead>\n",
       "  <tbody>\n",
       "    <tr>\n",
       "      <th></th>\n",
       "      <td>float64</td>\n",
       "      <td>float64</td>\n",
       "      <td>float64</td>\n",
       "      <td>float64</td>\n",
       "      <td>float64</td>\n",
       "      <td>float64</td>\n",
       "    </tr>\n",
       "    <tr>\n",
       "      <th></th>\n",
       "      <td>...</td>\n",
       "      <td>...</td>\n",
       "      <td>...</td>\n",
       "      <td>...</td>\n",
       "      <td>...</td>\n",
       "      <td>...</td>\n",
       "    </tr>\n",
       "    <tr>\n",
       "      <th>...</th>\n",
       "      <td>...</td>\n",
       "      <td>...</td>\n",
       "      <td>...</td>\n",
       "      <td>...</td>\n",
       "      <td>...</td>\n",
       "      <td>...</td>\n",
       "    </tr>\n",
       "    <tr>\n",
       "      <th></th>\n",
       "      <td>...</td>\n",
       "      <td>...</td>\n",
       "      <td>...</td>\n",
       "      <td>...</td>\n",
       "      <td>...</td>\n",
       "      <td>...</td>\n",
       "    </tr>\n",
       "    <tr>\n",
       "      <th></th>\n",
       "      <td>...</td>\n",
       "      <td>...</td>\n",
       "      <td>...</td>\n",
       "      <td>...</td>\n",
       "      <td>...</td>\n",
       "      <td>...</td>\n",
       "    </tr>\n",
       "  </tbody>\n",
       "</table>\n",
       "</div>\n",
       "<div>Dask Name: read-csv, 16 tasks</div>"
      ],
      "text/plain": [
       "Dask DataFrame Structure:\n",
       "                      t        i        j        k        v        q\n",
       "npartitions=16                                                      \n",
       "                float64  float64  float64  float64  float64  float64\n",
       "                    ...      ...      ...      ...      ...      ...\n",
       "...                 ...      ...      ...      ...      ...      ...\n",
       "                    ...      ...      ...      ...      ...      ...\n",
       "                    ...      ...      ...      ...      ...      ...\n",
       "Dask Name: read-csv, 16 tasks"
      ]
     },
     "execution_count": 3,
     "metadata": {},
     "output_type": "execute_result"
    }
   ],
   "source": [
    "directory_path = './trade data/trade_data/'\n",
    "\n",
    "# Generate the file pattern for the years 1975 to 2000\n",
    "file_pattern = directory_path + 'BACI_HS12_Y{year}_V202001.csv'\n",
    "\n",
    "file_patterns = [file_pattern.format(year=year) for year in range(2016, 2019)]\n",
    "\n",
    "df = dd.read_csv(file_patterns,assume_missing=True)\n",
    "\n",
    "df"
   ]
  },
  {
   "cell_type": "code",
   "execution_count": 4,
   "id": "6d773eb4",
   "metadata": {},
   "outputs": [],
   "source": [
    "import pandas as pd\n",
    "products = pd.read_csv('./trade data/trade_data/product_codes_HS12_V202001.csv',encoding='latin-1')\n",
    "products = products.rename(columns={\"code\":\"k\"})"
   ]
  },
  {
   "cell_type": "code",
   "execution_count": 6,
   "id": "bbfd0d82",
   "metadata": {},
   "outputs": [
    {
     "data": {
      "text/html": [
       "<div>\n",
       "<style scoped>\n",
       "    .dataframe tbody tr th:only-of-type {\n",
       "        vertical-align: middle;\n",
       "    }\n",
       "\n",
       "    .dataframe tbody tr th {\n",
       "        vertical-align: top;\n",
       "    }\n",
       "\n",
       "    .dataframe thead th {\n",
       "        text-align: right;\n",
       "    }\n",
       "</style>\n",
       "<table border=\"1\" class=\"dataframe\">\n",
       "  <thead>\n",
       "    <tr style=\"text-align: right;\">\n",
       "      <th></th>\n",
       "      <th>t</th>\n",
       "      <th>i</th>\n",
       "      <th>j</th>\n",
       "      <th>k</th>\n",
       "      <th>v</th>\n",
       "      <th>q</th>\n",
       "      <th>description</th>\n",
       "    </tr>\n",
       "  </thead>\n",
       "  <tbody>\n",
       "    <tr>\n",
       "      <th>0</th>\n",
       "      <td>2016.0</td>\n",
       "      <td>4.0</td>\n",
       "      <td>12.0</td>\n",
       "      <td>80132.0</td>\n",
       "      <td>26.313</td>\n",
       "      <td>3.000</td>\n",
       "      <td>Nuts, edible: cashew nuts, fresh or dried, she...</td>\n",
       "    </tr>\n",
       "    <tr>\n",
       "      <th>1</th>\n",
       "      <td>2016.0</td>\n",
       "      <td>4.0</td>\n",
       "      <td>586.0</td>\n",
       "      <td>80132.0</td>\n",
       "      <td>1.095</td>\n",
       "      <td>1.105</td>\n",
       "      <td>Nuts, edible: cashew nuts, fresh or dried, she...</td>\n",
       "    </tr>\n",
       "    <tr>\n",
       "      <th>2</th>\n",
       "      <td>2016.0</td>\n",
       "      <td>8.0</td>\n",
       "      <td>703.0</td>\n",
       "      <td>80132.0</td>\n",
       "      <td>27.977</td>\n",
       "      <td>2.793</td>\n",
       "      <td>Nuts, edible: cashew nuts, fresh or dried, she...</td>\n",
       "    </tr>\n",
       "    <tr>\n",
       "      <th>3</th>\n",
       "      <td>2016.0</td>\n",
       "      <td>16.0</td>\n",
       "      <td>251.0</td>\n",
       "      <td>80132.0</td>\n",
       "      <td>18.203</td>\n",
       "      <td>1.400</td>\n",
       "      <td>Nuts, edible: cashew nuts, fresh or dried, she...</td>\n",
       "    </tr>\n",
       "    <tr>\n",
       "      <th>4</th>\n",
       "      <td>2016.0</td>\n",
       "      <td>31.0</td>\n",
       "      <td>784.0</td>\n",
       "      <td>80132.0</td>\n",
       "      <td>1.970</td>\n",
       "      <td>0.517</td>\n",
       "      <td>Nuts, edible: cashew nuts, fresh or dried, she...</td>\n",
       "    </tr>\n",
       "  </tbody>\n",
       "</table>\n",
       "</div>"
      ],
      "text/plain": [
       "        t     i      j        k       v      q  \\\n",
       "0  2016.0   4.0   12.0  80132.0  26.313  3.000   \n",
       "1  2016.0   4.0  586.0  80132.0   1.095  1.105   \n",
       "2  2016.0   8.0  703.0  80132.0  27.977  2.793   \n",
       "3  2016.0  16.0  251.0  80132.0  18.203  1.400   \n",
       "4  2016.0  31.0  784.0  80132.0   1.970  0.517   \n",
       "\n",
       "                                         description  \n",
       "0  Nuts, edible: cashew nuts, fresh or dried, she...  \n",
       "1  Nuts, edible: cashew nuts, fresh or dried, she...  \n",
       "2  Nuts, edible: cashew nuts, fresh or dried, she...  \n",
       "3  Nuts, edible: cashew nuts, fresh or dried, she...  \n",
       "4  Nuts, edible: cashew nuts, fresh or dried, she...  "
      ]
     },
     "execution_count": 6,
     "metadata": {},
     "output_type": "execute_result"
    }
   ],
   "source": [
    "df_wdes = df.merge(products)\n",
    "df_wdes.head()"
   ]
  },
  {
   "cell_type": "code",
   "execution_count": 7,
   "id": "a30a08bd",
   "metadata": {},
   "outputs": [],
   "source": [
    "countries = pd.read_csv('./trade data/trade_data/country_codes_V202001.csv',encoding='latin-1')\n",
    "countries = countries.rename(columns={\"country_code\":\"i\",\"iso_3digit_alpha\":\"name_i\"})\n",
    "df_wdes = df_wdes.merge(countries[['i','name_i']])\n",
    "\n",
    "countries = pd.read_csv('./trade data/trade_data/country_codes_V202001.csv',encoding='latin-1')\n",
    "countries = countries.rename(columns={\"country_code\":\"j\",\"iso_3digit_alpha\":\"name_j\"})\n",
    "df_wdes = df_wdes.merge(countries[['j','name_j']])"
   ]
  },
  {
   "cell_type": "code",
   "execution_count": 7,
   "id": "bf16e28d",
   "metadata": {},
   "outputs": [
    {
     "data": {
      "text/html": [
       "<div>\n",
       "<style scoped>\n",
       "    .dataframe tbody tr th:only-of-type {\n",
       "        vertical-align: middle;\n",
       "    }\n",
       "\n",
       "    .dataframe tbody tr th {\n",
       "        vertical-align: top;\n",
       "    }\n",
       "\n",
       "    .dataframe thead th {\n",
       "        text-align: right;\n",
       "    }\n",
       "</style>\n",
       "<table border=\"1\" class=\"dataframe\">\n",
       "  <thead>\n",
       "    <tr style=\"text-align: right;\">\n",
       "      <th></th>\n",
       "      <th>t</th>\n",
       "      <th>i</th>\n",
       "      <th>j</th>\n",
       "      <th>k</th>\n",
       "      <th>v</th>\n",
       "      <th>q</th>\n",
       "      <th>description</th>\n",
       "      <th>name_i</th>\n",
       "      <th>name_j</th>\n",
       "    </tr>\n",
       "  </thead>\n",
       "  <tbody>\n",
       "    <tr>\n",
       "      <th>0</th>\n",
       "      <td>2016.0</td>\n",
       "      <td>4.0</td>\n",
       "      <td>12.0</td>\n",
       "      <td>80132.0</td>\n",
       "      <td>26.313</td>\n",
       "      <td>3.000</td>\n",
       "      <td>Nuts, edible: cashew nuts, fresh or dried, she...</td>\n",
       "      <td>AFG</td>\n",
       "      <td>DZA</td>\n",
       "    </tr>\n",
       "    <tr>\n",
       "      <th>1</th>\n",
       "      <td>2016.0</td>\n",
       "      <td>4.0</td>\n",
       "      <td>12.0</td>\n",
       "      <td>130190.0</td>\n",
       "      <td>1.507</td>\n",
       "      <td>0.585</td>\n",
       "      <td>Natural gums, resins, gum-resins and oleoresin...</td>\n",
       "      <td>AFG</td>\n",
       "      <td>DZA</td>\n",
       "    </tr>\n",
       "    <tr>\n",
       "      <th>2</th>\n",
       "      <td>2016.0</td>\n",
       "      <td>4.0</td>\n",
       "      <td>12.0</td>\n",
       "      <td>370239.0</td>\n",
       "      <td>1.121</td>\n",
       "      <td>0.003</td>\n",
       "      <td>Photographic film: in rolls, (other than with ...</td>\n",
       "      <td>AFG</td>\n",
       "      <td>DZA</td>\n",
       "    </tr>\n",
       "    <tr>\n",
       "      <th>3</th>\n",
       "      <td>2016.0</td>\n",
       "      <td>4.0</td>\n",
       "      <td>12.0</td>\n",
       "      <td>970600.0</td>\n",
       "      <td>17.236</td>\n",
       "      <td>0.019</td>\n",
       "      <td>Antiques: of an age exceeding one hundred years</td>\n",
       "      <td>AFG</td>\n",
       "      <td>DZA</td>\n",
       "    </tr>\n",
       "    <tr>\n",
       "      <th>4</th>\n",
       "      <td>2016.0</td>\n",
       "      <td>8.0</td>\n",
       "      <td>12.0</td>\n",
       "      <td>611020.0</td>\n",
       "      <td>1.226</td>\n",
       "      <td>0.035</td>\n",
       "      <td>Jerseys, pullovers, cardigans, waistcoats and ...</td>\n",
       "      <td>ALB</td>\n",
       "      <td>DZA</td>\n",
       "    </tr>\n",
       "  </tbody>\n",
       "</table>\n",
       "</div>"
      ],
      "text/plain": [
       "        t    i     j         k       v      q  \\\n",
       "0  2016.0  4.0  12.0   80132.0  26.313  3.000   \n",
       "1  2016.0  4.0  12.0  130190.0   1.507  0.585   \n",
       "2  2016.0  4.0  12.0  370239.0   1.121  0.003   \n",
       "3  2016.0  4.0  12.0  970600.0  17.236  0.019   \n",
       "4  2016.0  8.0  12.0  611020.0   1.226  0.035   \n",
       "\n",
       "                                         description name_i name_j  \n",
       "0  Nuts, edible: cashew nuts, fresh or dried, she...    AFG    DZA  \n",
       "1  Natural gums, resins, gum-resins and oleoresin...    AFG    DZA  \n",
       "2  Photographic film: in rolls, (other than with ...    AFG    DZA  \n",
       "3    Antiques: of an age exceeding one hundred years    AFG    DZA  \n",
       "4  Jerseys, pullovers, cardigans, waistcoats and ...    ALB    DZA  "
      ]
     },
     "execution_count": 7,
     "metadata": {},
     "output_type": "execute_result"
    }
   ],
   "source": [
    "df_wdes.head()"
   ]
  },
  {
   "cell_type": "markdown",
   "id": "59014705",
   "metadata": {},
   "source": [
    "# Describe the trade volume of the whole dataset in terms of value"
   ]
  },
  {
   "cell_type": "code",
   "execution_count": 8,
   "id": "039cc069",
   "metadata": {},
   "outputs": [
    {
     "name": "stdout",
     "output_type": "stream",
     "text": [
      "count    2.402566e+07\n",
      "mean     2.090479e+03\n",
      "std      6.687752e+04\n",
      "min      1.000000e+00\n",
      "25%      6.489589e+00\n",
      "50%      3.579723e+01\n",
      "75%      2.724135e+02\n",
      "max      6.189576e+07\n",
      "Name: v, dtype: float64\n"
     ]
    }
   ],
   "source": [
    "trade_value_stats = df['v'].describe().compute()\n",
    "\n",
    "# Print the descriptive statistics\n",
    "print(trade_value_stats)"
   ]
  },
  {
   "cell_type": "code",
   "execution_count": 9,
   "id": "7b6848d1",
   "metadata": {},
   "outputs": [
    {
     "name": "stdout",
     "output_type": "stream",
     "text": [
      "count    2.402566e+07\n",
      "mean     1.903036e+03\n",
      "std      4.105983e+05\n",
      "min      7.996801e-07\n",
      "25%      3.230000e-01\n",
      "50%      3.294068e+00\n",
      "75%      3.964200e+01\n",
      "max      8.246835e+08\n",
      "Name: q, dtype: float64\n"
     ]
    }
   ],
   "source": [
    "trade_value_stats = df['q'].describe().compute()\n",
    "\n",
    "# Print the descriptive statistics\n",
    "print(trade_value_stats)"
   ]
  },
  {
   "cell_type": "markdown",
   "id": "b92e2c94",
   "metadata": {},
   "source": [
    "# List the five highest value sectors in the entire sample period"
   ]
  },
  {
   "cell_type": "code",
   "execution_count": 12,
   "id": "bac03b36",
   "metadata": {},
   "outputs": [],
   "source": [
    "# Mapping of HS code chapters to sectors\n",
    "hs_to_sector = {\n",
    "    **{f\"{i:02}\": \"Animal & Animal Products\" for i in range(1, 6)},  # 01-05\n",
    "    **{f\"{i:02}\": \"Vegetable Products\" for i in range(6, 16)},       # 06-15\n",
    "    **{f\"{i:02}\": \"Foodstuffs\" for i in range(16, 25)},              # 16-24\n",
    "    **{f\"{i:02}\": \"Mineral Products\" for i in range(25, 28)},        # 25-27\n",
    "    **{f\"{i:02}\": \"Chemicals & Allied Industries\" for i in range(28, 39)},  # 28-38\n",
    "    **{f\"{i:02}\": \"Plastics / Rubbers\" for i in range(39, 41)},      # 39-40\n",
    "    **{f\"{i:02}\": \"Raw Hides, Skins, Leather, & Furs\" for i in range(41, 44)},  # 41-43\n",
    "    **{f\"{i:02}\": \"Wood & Wood Products\" for i in range(44, 50)},    # 44-49\n",
    "    **{f\"{i:02}\": \"Textiles\" for i in range(50, 64)},                # 50-63\n",
    "    **{f\"{i:02}\": \"Footwear / Headgear\" for i in range(64, 68)},     # 64-67\n",
    "    **{f\"{i:02}\": \"Stone / Glass\" for i in range(68, 72)},           # 68-71\n",
    "    **{f\"{i:02}\": \"Metals\" for i in range(72, 84)},                  # 72-83\n",
    "    **{f\"{i:02}\": \"Machinery / Electrical\" for i in range(84, 86)},  # 84-85\n",
    "    **{f\"{i:02}\": \"Transportation\" for i in range(86, 90)},          # 86-89\n",
    "    **{f\"{i:02}\": \"Miscellaneous\" for i in range(90, 98)}            # 90-97\n",
    "}\n",
    "\n",
    "# Convert HS codes to string, handling NaNs and other non-string types gracefully\n",
    "df_wdes['k'] = df_wdes['k'].astype(str)\n",
    "\n",
    "# Now apply the mapping function\n",
    "df_wdes['sector'] = df_wdes['k'].map(lambda x: hs_to_sector.get(x[:2], \"Other\"))\n",
    "\n",
    "def get_sector(hs_code):\n",
    "    # Ensure hs_code is a string and check if it's long enough\n",
    "    hs_code = str(hs_code)\n",
    "    if len(hs_code) >= 2:\n",
    "        prefix = hs_code[:2]\n",
    "        return hs_to_sector.get(prefix, \"Other\")\n",
    "    return \"Other\"\n",
    "\n",
    "import dask.dataframe as dd\n",
    "\n",
    "# Apply the get_sector function\n",
    "df_wdes['sector'] = df_wdes['k'].map(get_sector)\n",
    "\n",
    "# Compute or persist to see results\n",
    "df_wdes = df_wdes.persist()  # if using Dask distributed and need to keep in memory\n",
    "# or\n",
    "#result = df_wdes.compute()  # to execute all operations and bring data into memory"
   ]
  },
  {
   "cell_type": "code",
   "execution_count": 13,
   "id": "9e9732dd",
   "metadata": {},
   "outputs": [
    {
     "data": {
      "text/plain": [
       "Index(['t', 'i', 'j', 'k', 'v', 'q', 'description', 'name_i', 'name_j',\n",
       "       'sector'],\n",
       "      dtype='object')"
      ]
     },
     "execution_count": 13,
     "metadata": {},
     "output_type": "execute_result"
    }
   ],
   "source": [
    "df_wdes.columns"
   ]
  },
  {
   "cell_type": "code",
   "execution_count": 14,
   "id": "e52dd1ca",
   "metadata": {},
   "outputs": [
    {
     "name": "stdout",
     "output_type": "stream",
     "text": [
      "Top Five Sectors by Trade Value:\n",
      "sector\n",
      "Machinery / Electrical           1.312468e+10\n",
      "Mineral Products                 6.489509e+09\n",
      "Transportation                   5.519668e+09\n",
      "Chemicals & Allied Industries    5.334477e+09\n",
      "Metals                           3.945046e+09\n",
      "Name: v, dtype: float64\n"
     ]
    }
   ],
   "source": [
    "# Group by the product name and sum the trade values\n",
    "sector_trade_values = df_wdes.groupby('sector')['v'].sum()\n",
    "\n",
    "# Compute the result to get the top five sectors with the highest trade values\n",
    "top_five_sectors = sector_trade_values.nlargest(5).compute()\n",
    "\n",
    "# Display the results\n",
    "print(\"Top Five Sectors by Trade Value:\")\n",
    "print(top_five_sectors)"
   ]
  },
  {
   "cell_type": "markdown",
   "id": "2dd8a4bb",
   "metadata": {},
   "source": [
    "# Who were the top 10 countries with the most trading partners"
   ]
  },
  {
   "cell_type": "code",
   "execution_count": 11,
   "id": "07e621ea",
   "metadata": {},
   "outputs": [
    {
     "name": "stdout",
     "output_type": "stream",
     "text": [
      "Top 10 Countries with the Most Trading Partners:\n",
      "name_i\n",
      "Germany                       220\n",
      "Netherlands                   220\n",
      "Brazil                        219\n",
      "France, Monaco                219\n",
      "Italy                         219\n",
      "United Kingdom                219\n",
      "Thailand                      218\n",
      "Spain                         217\n",
      "Switzerland, Liechtenstein    217\n",
      "Sweden                        216\n",
      "Name: name_j, dtype: int64\n"
     ]
    }
   ],
   "source": [
    "# Group by 'exporter_name' and count unique 'importer_name' to find the number of unique trading partners\n",
    "trading_partners = df_wdes.groupby('name_i')['name_j'].nunique()\n",
    "\n",
    "# Compute the result to get the top 10 countries with the most unique trading partners\n",
    "top_10_countries = trading_partners.nlargest(10).compute()\n",
    "\n",
    "# Display the results\n",
    "print(\"Top 10 Countries with the Most Trading Partners:\")\n",
    "print(top_10_countries)"
   ]
  },
  {
   "cell_type": "code",
   "execution_count": 12,
   "id": "b0d348be",
   "metadata": {},
   "outputs": [
    {
     "data": {
      "image/png": "[encoded data removed]",
      "text/plain": [
       "<Figure size 720x432 with 1 Axes>"
      ]
     },
     "metadata": {
      "needs_background": "light"
     },
     "output_type": "display_data"
    }
   ],
   "source": [
    "import matplotlib.pyplot as plt\n",
    "\n",
    "# 创建图形和子图对象\n",
    "fig, ax = plt.subplots(figsize=(10, 6))\n",
    "\n",
    "# 绘制柱形图\n",
    "top_10_countries.plot(kind='bar', color='skyblue', ax=ax)\n",
    "\n",
    "# 添加每个柱形上的合作伙伴数量文本标签\n",
    "for i, v in enumerate(top_10_countries):\n",
    "    ax.text(i, v + 0.1, str(v), ha='center', va='bottom')\n",
    "\n",
    "# 设置标题和标签\n",
    "ax.set_title('Top 10 Countries with the Most Trading Partners')\n",
    "ax.set_xlabel('Country')\n",
    "ax.set_ylabel('Number of Trading Partners')\n",
    "ax.set_xticklabels(top_10_countries.index, rotation=45, ha='right')  # 设置x轴标签\n",
    "\n",
    "# 显示图形\n",
    "plt.tight_layout()\n",
    "plt.show()"
   ]
  },
  {
   "cell_type": "markdown",
   "id": "bf42ab38",
   "metadata": {},
   "source": [
    "# Who were the bottom 10 countries with the fewest trading partners"
   ]
  },
  {
   "cell_type": "code",
   "execution_count": 13,
   "id": "d0d68052",
   "metadata": {},
   "outputs": [
    {
     "data": {
      "image/png": "[encoded data removed]",
      "text/plain": [
       "<Figure size 720x432 with 1 Axes>"
      ]
     },
     "metadata": {
      "needs_background": "light"
     },
     "output_type": "display_data"
    }
   ],
   "source": [
    "bottom_10_countries = trading_partners.nsmallest(10).compute()\n",
    "\n",
    "# 创建图形和子图对象\n",
    "fig, ax = plt.subplots(figsize=(10, 6))\n",
    "\n",
    "# 绘制柱形图\n",
    "bottom_10_countries.plot(kind='bar', color='skyblue', ax=ax)\n",
    "\n",
    "# 添加每个柱形上的合作伙伴数量文本标签\n",
    "for i, v in enumerate(bottom_10_countries):\n",
    "    ax.text(i, v + 0.1, str(v), ha='center', va='bottom')\n",
    "\n",
    "# 设置标题和标签\n",
    "ax.set_title('Bottom 10 Countries with the Most Trading Partners')\n",
    "ax.set_xlabel('Country')\n",
    "ax.set_ylabel('Number of Trading Partners')\n",
    "ax.set_xticklabels(bottom_10_countries.index, rotation=45, ha='right')  # 设置x轴标签\n",
    "\n",
    "# 显示图形\n",
    "plt.tight_layout()\n",
    "plt.show()"
   ]
  },
  {
   "cell_type": "markdown",
   "id": "c4cfa025",
   "metadata": {},
   "source": [
    "# Calculate the top 10 exports (in terms of value) of USA, EU in total, China, and Vietnam over the sample period (5 points)"
   ]
  },
  {
   "cell_type": "code",
   "execution_count": 8,
   "id": "c1efe830",
   "metadata": {},
   "outputs": [
    {
     "name": "stdout",
     "output_type": "stream",
     "text": [
      "Top 10 Exports for USA:\n",
      "name_i  description                                                                                                                                                                                                                             \n",
      "USA     Petroleum oils and oils from bituminous minerals, not crude: preparations n.e.c. containing by weight 70% or more of petroleum oils or oils from bituminous minerals: these being the basic constituents of the preparations: waste oils    2.308764e+08\n",
      "        Aeroplanes and other aircraft: of an unladen weight exceeding 15,000kg                                                                                                                                                                      1.604832e+08\n",
      "        Medicaments: consisting of mixed or unmixed products n.e.c. in heading no. 3004, for therapeutic or prophylactic uses, packaged for retail sale                                                                                             8.316765e+07\n",
      "        Oils: petroleum oils and oils obtained from bituminous minerals, crude                                                                                                                                                                      7.125466e+07\n",
      "        Blood, human or animal, antisera, other blood fractions and immunological products: whether or not modified or obtained by means of biotechnological processes                                                                              6.837904e+07\n",
      "        Soya beans: other than seed, whether or not broken                                                                                                                                                                                          6.197061e+07\n",
      "        Vehicles: spark-ignition internal combustion reciprocating piston engine, cylinder capacity exceeding 1500cc but not exceeding 3000cc                                                                                                       5.854681e+07\n",
      "        Vehicles: spark-ignition internal combustion reciprocating piston engine, cylinder capacity exceeding 3000cc                                                                                                                                5.575138e+07\n",
      "        Aircraft and spacecraft: parts of aeroplanes or helicopters n.e.c. in heading no. 8803                                                                                                                                                      5.109874e+07\n",
      "        Turbines: parts of turbo-jets and turbo-propellers                                                                                                                                                                                          4.905799e+07\n",
      "Name: v, dtype: float64\n",
      "\n",
      "Top 10 Exports for China:\n",
      "name_i  description                                                                                                                                                                                                                             \n",
      "CHN     Telephones for cellular networks or for other wireless networks                                                                                                                                                                             5.260866e+08\n",
      "        Automatic data processing machines: portable, weighing not more than 10kg, consisting of at least a central processing unit, a keyboard and a display                                                                                       3.136846e+08\n",
      "        Telephone sets and other apparatus for the transmission or reception of voice, images or other data, via a wired or wireless network: parts                                                                                                 1.676517e+08\n",
      "        Communication apparatus (excluding telephone sets or base stations): machines for the reception, conversion and transmission or regeneration of voice, images or other data, including switching and routing apparatus                      1.646604e+08\n",
      "        Machinery: parts and accessories of the machines of heading no. 8471 (other than covers, carrying cases and the like)                                                                                                                       1.491525e+08\n",
      "        Tricycles, scooters, pedal cars and similar wheeled toys: dolls' carriages: dolls: other toys: reduced-size (scale) models and similar recreational models, working or not: puzzles of all kinds                                            9.161503e+07\n",
      "        Electronic integrated circuits: memories                                                                                                                                                                                                    8.890111e+07\n",
      "        Reception and transmission apparatus: for use with the apparatus of heading no. 8525 to 8528, excluding aerials and aerial reflectors                                                                                                       6.359646e+07\n",
      "        Electrical static converters                                                                                                                                                                                                                6.288531e+07\n",
      "        Petroleum oils and oils from bituminous minerals, not crude: preparations n.e.c. containing by weight 70% or more of petroleum oils or oils from bituminous minerals: these being the basic constituents of the preparations: waste oils    6.014353e+07\n",
      "Name: v, dtype: float64\n",
      "\n",
      "Top 10 Exports for Vietnam:\n",
      "name_i  description                                                                                                                                                                                                           \n",
      "VNM     Telephones for cellular networks or for other wireless networks                                                                                                                                                           1.040059e+08\n",
      "        Telephone sets and other apparatus for the transmission or reception of voice, images or other data, via a wired or wireless network: parts                                                                               4.528763e+07\n",
      "        Sports footwear: tennis shoes, basketball shoes, gym shoes, training shoes and the like, with outer soles of rubber or plastics and uppers of textile materials                                                           1.749166e+07\n",
      "        Electronic integrated circuits: processors and controllers, whether or not combined with memories, converters, logic circuits, amplifiers, clock and timing circuits, or other circuits                                   1.682722e+07\n",
      "        Reception and transmission apparatus: for use with the apparatus of heading no. 8525 to 8528, excluding aerials and aerial reflectors                                                                                     1.322302e+07\n",
      "        Footwear: n.e.c. in heading no. 6403, (not covering the ankle), outer soles of rubber, plastics or composition leather, uppers of leather                                                                                 1.195756e+07\n",
      "        Footwear: (other than sportswear), with outer soles of rubber or plastics and uppers of textile materials                                                                                                                 1.065080e+07\n",
      "        Automatic data processing machines: portable, weighing not more than 10kg, consisting of at least a central processing unit, a keyboard and a display                                                                     1.037511e+07\n",
      "        Communication apparatus (excluding telephone sets or base stations): machines for the reception, conversion and transmission or regeneration of voice, images or other data, including switching and routing apparatus    9.692152e+06\n",
      "        Coffee: not roasted or decaffeinated                                                                                                                                                                                      9.042364e+06\n",
      "Name: v, dtype: float64\n",
      "\n",
      "Top 10 Exports for EU:\n",
      "description\n",
      "Medicaments: consisting of mixed or unmixed products n.e.c. in heading no. 3004, for therapeutic or prophylactic uses, packaged for retail sale                                                                                             5.149740e+08\n",
      "Petroleum oils and oils from bituminous minerals, not crude: preparations n.e.c. containing by weight 70% or more of petroleum oils or oils from bituminous minerals: these being the basic constituents of the preparations: waste oils    4.897682e+08\n",
      "Vehicles: spark-ignition internal combustion reciprocating piston engine, cylinder capacity exceeding 1500cc but not exceeding 3000cc                                                                                                       3.460188e+08\n",
      "Vehicles: compression-ignition internal combustion piston engine (diesel or semi-diesel), cylinder capacity exceeding 1500cc but not exceeding 2500cc                                                                                       3.084624e+08\n",
      "Aeroplanes and other aircraft: of an unladen weight exceeding 15,000kg                                                                                                                                                                      2.308228e+08\n",
      "Blood, human or animal, antisera, other blood fractions and immunological products: whether or not modified or obtained by means of biotechnological processes                                                                              1.895173e+08\n",
      "Vehicles: spark-ignition internal combustion reciprocating piston engine, cylinder capacity exceeding 1000cc but not exceeding 1500cc                                                                                                       1.120894e+08\n",
      "Oils: petroleum oils and oils obtained from bituminous minerals, crude                                                                                                                                                                      1.015861e+08\n",
      "Vehicles: spark-ignition internal combustion reciprocating piston engine, cylinder capacity exceeding 3000cc                                                                                                                                7.589486e+07\n",
      "Vehicles: parts and accessories, of bodies, other than safety seat belts                                                                                                                                                                    7.499336e+07\n",
      "Name: v, dtype: float64\n"
     ]
    }
   ],
   "source": [
    "# Dictionary of countries and their respective codes\n",
    "countries = {\n",
    "    'USA': 'USA',  # assuming 'USA' is the code used in your dataset\n",
    "    'EU': ['GBR', 'AUT', 'BEL', 'BGR', 'HRV', 'CYP', 'CZE', 'DNK', 'EST', 'FIN', \n",
    "           'FRA', 'DEU', 'GRC', 'HUN', 'IRL', 'ITA', 'LVA', 'LTU', 'MLT', 'NLD', \n",
    "           'POL', 'PRT', 'ROU', 'SVK', 'SVN', 'ESP', 'SWE'],  # EU country codes\n",
    "    'China': 'CHN',\n",
    "    'Vietnam': 'VNM'\n",
    "}\n",
    "\n",
    "# Create a list of all relevant exporter codes, including handling the single code and list of codes correctly\n",
    "all_codes = [countries['USA'], countries['China'], countries['Vietnam']] + countries['EU']\n",
    "\n",
    "# Filter data for USA, EU, China, and Vietnam using 'exporter_code'\n",
    "filtered_data = df_wdes[df_wdes['name_i'].isin(all_codes)]\n",
    "\n",
    "# Aggregate trade values by exporter and product\n",
    "top_exports = filtered_data.groupby(['name_i', 'description'])['v'].sum()\n",
    "\n",
    "# Compute the result to get top exports for each country or region\n",
    "top_exports = top_exports.compute().sort_values(ascending=False).groupby('name_i').head(10)\n",
    "\n",
    "# Since the data includes EU countries separately, we need to aggregate EU data\n",
    "eu_exports = top_exports.loc[countries['EU']].groupby('description').sum()\n",
    "eu_top_10_exports = eu_exports.nlargest(10)\n",
    "\n",
    "# Display the results for each entity by checking and indexing properly\n",
    "print(\"Top 10 Exports for USA:\")\n",
    "print(top_exports.loc[[countries['USA']]])\n",
    "print(\"\\nTop 10 Exports for China:\")\n",
    "print(top_exports.loc[[countries['China']]])\n",
    "print(\"\\nTop 10 Exports for Vietnam:\")\n",
    "print(top_exports.loc[[countries['Vietnam']]])\n",
    "print(\"\\nTop 10 Exports for EU:\")\n",
    "print(eu_top_10_exports)"
   ]
  },
  {
   "cell_type": "markdown",
   "id": "8dd2b63d",
   "metadata": {},
   "source": [
    "# Calculate the top 10 goods with the highest trade volume for both exports and imports in terms of value and quantity"
   ]
  },
  {
   "cell_type": "code",
   "execution_count": 13,
   "id": "6da473f7",
   "metadata": {},
   "outputs": [
    {
     "name": "stdout",
     "output_type": "stream",
     "text": [
      "Top 10 Goods by Total Trade Value:\n",
      "description\n",
      "Oils: petroleum oils and oils obtained from bituminous minerals, crude                                                                                                                                                                      2.552373e+09\n",
      "Petroleum oils and oils from bituminous minerals, not crude: preparations n.e.c. containing by weight 70% or more of petroleum oils or oils from bituminous minerals: these being the basic constituents of the preparations: waste oils    1.829220e+09\n",
      "Vehicles: spark-ignition internal combustion reciprocating piston engine, cylinder capacity exceeding 1500cc but not exceeding 3000cc                                                                                                       8.573921e+08\n",
      "Medicaments: consisting of mixed or unmixed products n.e.c. in heading no. 3004, for therapeutic or prophylactic uses, packaged for retail sale                                                                                             8.460212e+08\n",
      "Metals: gold, non-monetary, unwrought (but not powder)                                                                                                                                                                                      8.210957e+08\n",
      "Telephones for cellular networks or for other wireless networks                                                                                                                                                                             8.084670e+08\n",
      "Electronic integrated circuits: n.e.c. in heading no. 8542                                                                                                                                                                                  4.706733e+08\n",
      "Aeroplanes and other aircraft: of an unladen weight exceeding 15,000kg                                                                                                                                                                      4.560080e+08\n",
      "Communication apparatus (excluding telephone sets or base stations): machines for the reception, conversion and transmission or regeneration of voice, images or other data, including switching and routing apparatus                      4.345708e+08\n",
      "Automatic data processing machines: portable, weighing not more than 10kg, consisting of at least a central processing unit, a keyboard and a display                                                                                       4.077026e+08\n",
      "Name: v, dtype: float64\n"
     ]
    }
   ],
   "source": [
    "# Group by 'product_name' and sum the trade value 'v'\n",
    "aggregated_trade_value = trade_data.groupby('description')['v'].sum()\n",
    "\n",
    "# Compute the result to get the top 10 goods with the highest trade value\n",
    "top_10_goods_by_value = aggregated_trade_value.nlargest(10).compute()\n",
    "\n",
    "# Display the results\n",
    "print(\"Top 10 Goods by Total Trade Value:\")\n",
    "print(top_10_goods_by_value)"
   ]
  },
  {
   "cell_type": "code",
   "execution_count": 9,
   "id": "fded5d66",
   "metadata": {
    "scrolled": true
   },
   "outputs": [
    {
     "name": "stdout",
     "output_type": "stream",
     "text": [
      "Top 10 Goods by Total Trade Quantity:\n",
      "description\n",
      "Oils: petroleum oils and oils obtained from bituminous minerals, crude                                                                                                                                                                      6.735505e+09\n",
      "Iron ores and concentrates: non-agglomerated                                                                                                                                                                                                4.143942e+09\n",
      "Petroleum oils and oils from bituminous minerals, not crude: preparations n.e.c. containing by weight 70% or more of petroleum oils or oils from bituminous minerals: these being the basic constituents of the preparations: waste oils    3.799377e+09\n",
      "Coal: bituminous, whether or not pulverised, but not agglomerated                                                                                                                                                                           3.193167e+09\n",
      "Petroleum gases and other gaseous hydrocarbons: liquefied, natural gas                                                                                                                                                                      2.950389e+09\n",
      "Waters: other than mineral and aerated, (not containing added sugar or other sweetening matter nor flavoured), ice and snow                                                                                                                 1.487442e+09\n",
      "Coal: (other than anthracite and bituminous), whether or not pulverised but not agglomerated                                                                                                                                                1.156152e+09\n",
      "Petroleum gases and other gaseous hydrocarbons: in gaseous state, natural gas                                                                                                                                                               1.141492e+09\n",
      "Pebbles, gravel, broken or crushed stone: of a kind commonly used for concrete aggregates, for road metalling or for railway or other ballast, shingle and flint, whether or not heat-treated                                               6.183930e+08\n",
      "Cereals: wheat and meslin, other than durum wheat, other than seed                                                                                                                                                                          5.450705e+08\n",
      "Name: q, dtype: float64\n"
     ]
    }
   ],
   "source": [
    "aggregated_trade_quantity = df_wdes.groupby('description')['q'].sum()\n",
    "top_10_goods_by_quantity = aggregated_trade_quantity.nlargest(10).compute()\n",
    "\n",
    "# Display the results\n",
    "print(\"Top 10 Goods by Total Trade Quantity:\")\n",
    "print(top_10_goods_by_quantity)"
   ]
  },
  {
   "cell_type": "code",
   "execution_count": 10,
   "id": "c900cc02",
   "metadata": {},
   "outputs": [
    {
     "name": "stdout",
     "output_type": "stream",
     "text": [
      "Top 10 goods by trade value:\n",
      "description\n",
      "Oils: petroleum oils and oils obtained from bituminous minerals, crude                                                                                                                                                                      2.552373e+09\n",
      "Petroleum oils and oils from bituminous minerals, not crude: preparations n.e.c. containing by weight 70% or more of petroleum oils or oils from bituminous minerals: these being the basic constituents of the preparations: waste oils    1.829220e+09\n",
      "Vehicles: spark-ignition internal combustion reciprocating piston engine, cylinder capacity exceeding 1500cc but not exceeding 3000cc                                                                                                       8.573921e+08\n",
      "Medicaments: consisting of mixed or unmixed products n.e.c. in heading no. 3004, for therapeutic or prophylactic uses, packaged for retail sale                                                                                             8.460212e+08\n",
      "Metals: gold, non-monetary, unwrought (but not powder)                                                                                                                                                                                      8.210957e+08\n",
      "Telephones for cellular networks or for other wireless networks                                                                                                                                                                             8.084670e+08\n",
      "Electronic integrated circuits: n.e.c. in heading no. 8542                                                                                                                                                                                  4.706733e+08\n",
      "Aeroplanes and other aircraft: of an unladen weight exceeding 15,000kg                                                                                                                                                                      4.560080e+08\n",
      "Communication apparatus (excluding telephone sets or base stations): machines for the reception, conversion and transmission or regeneration of voice, images or other data, including switching and routing apparatus                      4.345708e+08\n",
      "Automatic data processing machines: portable, weighing not more than 10kg, consisting of at least a central processing unit, a keyboard and a display                                                                                       4.077026e+08\n",
      "Name: v, dtype: float64\n"
     ]
    }
   ],
   "source": [
    "aggregated_trade_value = df_wdes.groupby('description')['q'].sum()\n",
    "top_goods_by_value = df_wdes.groupby('description')['v'].sum().nlargest(10).compute()\n",
    "\n",
    "print(\"Top 10 goods by trade value:\")\n",
    "print(top_goods_by_value)"
   ]
  },
  {
   "cell_type": "markdown",
   "id": "42035db8",
   "metadata": {},
   "source": [
    "# Question 1.4\n",
    "Using the country shapefile, calculate the distance in kilometers between the centroid of our chosen\n",
    "country and all the other centroids. You may use either haversine distance with the geographic\n",
    "CRS or use a projected CRS and use the distance function of geopandas. (10 points).Please\n",
    "also create a scatterplot of distance and export volume (quantity and value) in logarithm form (5\n",
    "points)"
   ]
  },
  {
   "cell_type": "code",
   "execution_count": 11,
   "id": "1a4d8167",
   "metadata": {},
   "outputs": [],
   "source": [
    "import geopandas as gpd\n",
    "import pandas as pd\n",
    "import numpy as np\n",
    "import matplotlib.pyplot as plt\n",
    "from shapely.geometry import Point"
   ]
  },
  {
   "cell_type": "code",
   "execution_count": 12,
   "id": "5d7d6af5",
   "metadata": {},
   "outputs": [
    {
     "name": "stderr",
     "output_type": "stream",
     "text": [
      "C:\\Users\\huawei\\AppData\\Local\\Temp\\ipykernel_11772\\795398480.py:5: UserWarning: Geometry is in a geographic CRS. Results from 'centroid' are likely incorrect. Use 'GeoSeries.to_crs()' to re-project geometries to a projected CRS before this operation.\n",
      "\n",
      "  gdf['centroid'] = gdf.geometry.centroid\n"
     ]
    }
   ],
   "source": [
    "# Step 1: Load the shapefile\n",
    "gdf = gpd.read_file('./countries_shapefile/cn_primary_countries.shp')\n",
    "\n",
    "# Step 2: Calculate centroids\n",
    "gdf['centroid'] = gdf.geometry.centroid\n",
    "\n",
    "# Step 3: Find China's centroid\n",
    "china_centroid = gdf[gdf['name'] == 'China']['centroid'].iloc[0]"
   ]
  },
  {
   "cell_type": "code",
   "execution_count": 13,
   "id": "dfbd99b2",
   "metadata": {},
   "outputs": [
    {
     "data": {
      "text/plain": [
       "Index(['ADM0_A3', 'abbrev', 'continent', 'formal_nam', 'iso_a2', 'iso_a3',\n",
       "       'iso_n3', 'iso_short', 'name', 'name_sort', 'postal', 'primary',\n",
       "       'short_name', 'sov_a3', 'sovereign', 'type', 'un_ar', 'un_en', 'un_es',\n",
       "       'un_fr', 'un_n3', 'un_region', 'un_ru', 'un_subregi', 'un_zh', 'wb_a2',\n",
       "       'wb_a3', 'wb_region', 'geometry', 'centroid'],\n",
       "      dtype='object')"
      ]
     },
     "execution_count": 13,
     "metadata": {},
     "output_type": "execute_result"
    }
   ],
   "source": [
    "gdf.columns"
   ]
  },
  {
   "cell_type": "code",
   "execution_count": 14,
   "id": "5da45436",
   "metadata": {},
   "outputs": [],
   "source": [
    "# Step 4: Calculate distances using Haversine formula\n",
    "def haversine(lon1, lat1, lon2, lat2):\n",
    "    lon1, lat1, lon2, lat2 = map(np.radians, [lon1, lat1, lon2, lat2])\n",
    "    dlon = lon2 - lon1\n",
    "    dlat = lat2 - lat1\n",
    "    a = np.sin(dlat/2)**2 + np.cos(lat1) * np.cos(lat2) * np.sin(dlon/2)**2\n",
    "    c = 2 * np.arcsin(np.sqrt(a))\n",
    "    r = 6371  # Radius of Earth in kilometers\n",
    "    return c * r\n",
    "\n",
    "gdf['distance_to_china'] = gdf['centroid'].apply(lambda x: haversine(china_centroid.x, china_centroid.y, x.x, x.y))\n",
    "\n",
    "trade_data_agg = df_wdes.groupby('name_i').agg({'v': 'sum', 'q': 'sum'}).compute()"
   ]
  },
  {
   "cell_type": "code",
   "execution_count": 16,
   "id": "bbff0990",
   "metadata": {},
   "outputs": [
    {
     "data": {
      "text/plain": [
       "Index(['ADM0_A3', 'abbrev', 'continent', 'formal_nam', 'iso_a2', 'iso_a3',\n",
       "       'iso_n3', 'iso_short', 'name', 'name_sort', 'postal', 'primary',\n",
       "       'short_name', 'sov_a3', 'sovereign', 'type', 'un_ar', 'un_en', 'un_es',\n",
       "       'un_fr', 'un_n3', 'un_region', 'un_ru', 'un_subregi', 'un_zh', 'wb_a2',\n",
       "       'wb_a3', 'wb_region', 'centroid', 'distance_to_china'],\n",
       "      dtype='object')"
      ]
     },
     "execution_count": 16,
     "metadata": {},
     "output_type": "execute_result"
    }
   ],
   "source": [
    "# Convert GeoDataFrame to DataFrame for merging\n",
    "geo_df = pd.DataFrame(gdf.drop(columns='geometry'))\n",
    "geo_df.columns"
   ]
  },
  {
   "cell_type": "code",
   "execution_count": 24,
   "id": "a447af04",
   "metadata": {},
   "outputs": [
    {
     "data": {
      "text/plain": [
       "Index(['ADM0_A3', 'abbrev', 'continent', 'formal_nam', 'iso_a2', 'iso_a3',\n",
       "       'iso_n3', 'iso_short', 'name', 'name_sort', 'postal', 'primary',\n",
       "       'short_name', 'sov_a3', 'sovereign', 'type', 'un_ar', 'un_en', 'un_es',\n",
       "       'un_fr', 'un_n3', 'un_region', 'un_ru', 'un_subregi', 'un_zh', 'wb_a2',\n",
       "       'wb_a3', 'wb_region', 'centroid', 'distance_to_china'],\n",
       "      dtype='object')"
      ]
     },
     "execution_count": 24,
     "metadata": {},
     "output_type": "execute_result"
    }
   ],
   "source": [
    "geo_df = geo_df.rename(columns={\"iso_a3\":\"name_i\"})\n",
    "geo_df = geo_df.rename(columns={\"name_i\":\"iso_a3\"})\n",
    "geo_df.columns"
   ]
  },
  {
   "cell_type": "code",
   "execution_count": 25,
   "id": "7d00fd29",
   "metadata": {},
   "outputs": [
    {
     "name": "stdout",
     "output_type": "stream",
     "text": [
      "    iso_a3  distance_to_china\n",
      "0      AFG        3427.944689\n",
      "1      AGO       10489.123597\n",
      "2      ALB        6985.295568\n",
      "3      AND        8226.065852\n",
      "4      ARE        4903.125626\n",
      "..     ...                ...\n",
      "188    WSM       10389.626066\n",
      "189    YEM        5964.500594\n",
      "190    ZAF       10970.788557\n",
      "191    ZMB        9686.616650\n",
      "192    ZWE        9901.954609\n",
      "\n",
      "[193 rows x 2 columns]\n"
     ]
    }
   ],
   "source": [
    "# Merge geographic and trade data\n",
    "\n",
    "merged_data = pd.merge(geo_df, trade_data_agg, left_on='iso_a3', right_on='name_i')\n",
    "\n",
    "print(gdf[['iso_a3', 'distance_to_china']])"
   ]
  },
  {
   "cell_type": "code",
   "execution_count": 26,
   "id": "686bdd89",
   "metadata": {},
   "outputs": [],
   "source": [
    "import geopandas as gpd\n",
    "import numpy as np\n",
    "\n",
    "# If not already converted to a GeoDataFrame with lat and lon, you need to extract these from 'centroid' if possible\n",
    "if 'longitude' not in merged_data.columns or 'latitude' not in merged_data.columns:\n",
    "    merged_data['longitude'] = merged_data['centroid'].apply(lambda x: x.x)\n",
    "    merged_data['latitude'] = merged_data['centroid'].apply(lambda x: x.y)\n",
    "\n",
    "# Convert to GeoDataFrame if necessary\n",
    "if not isinstance(merged_data, gpd.GeoDataFrame):\n",
    "    merged_data = gpd.GeoDataFrame(merged_data, geometry=gpd.points_from_xy(merged_data.longitude, merged_data.latitude))"
   ]
  },
  {
   "cell_type": "code",
   "execution_count": 27,
   "id": "9c3c1a47",
   "metadata": {},
   "outputs": [
    {
     "name": "stderr",
     "output_type": "stream",
     "text": [
      "C:\\Users\\huawei\\AppData\\Local\\Temp\\ipykernel_11772\\2894521985.py:2: FutureWarning: The geopandas.dataset module is deprecated and will be removed in GeoPandas 1.0. You can get the original 'naturalearth_lowres' data from https://www.naturalearthdata.com/downloads/110m-cultural-vectors/.\n",
      "  world = gpd.read_file(gpd.datasets.get_path('naturalearth_lowres'))\n"
     ]
    },
    {
     "data": {
      "image/png": "[encoded data removed]",
      "text/plain": [
       "<Figure size 1080x720 with 2 Axes>"
      ]
     },
     "metadata": {
      "needs_background": "light"
     },
     "output_type": "display_data"
    }
   ],
   "source": [
    "# Load a world map\n",
    "world = gpd.read_file(gpd.datasets.get_path('naturalearth_lowres'))\n",
    "\n",
    "fig, ax = plt.subplots(1, 1, figsize=(15, 10))\n",
    "world.plot(ax=ax, color='lightgray')\n",
    "\n",
    "# Plot distances using a color scale\n",
    "merged_data.plot(ax=ax, column='distance_to_china', cmap='viridis', legend=True,\n",
    "                 legend_kwds={'label': \"Distance to China (km)\", 'orientation': \"horizontal\"})\n",
    "\n",
    "plt.title('Distance to China')\n",
    "plt.show()"
   ]
  },
  {
   "cell_type": "code",
   "execution_count": 28,
   "id": "6dab4b66",
   "metadata": {},
   "outputs": [
    {
     "data": {
      "image/png": "[encoded data removed]",
      "text/plain": [
       "<Figure size 432x288 with 1 Axes>"
      ]
     },
     "metadata": {
      "needs_background": "light"
     },
     "output_type": "display_data"
    }
   ],
   "source": [
    "# Plotting\n",
    "fig, ax = plt.subplots()\n",
    "ax.scatter(np.log1p(merged_data['distance_to_china']), np.log1p(merged_data['v']), label='Value', alpha=0.5)\n",
    "ax.scatter(np.log1p(merged_data['distance_to_china']), np.log1p(merged_data['q']), label='Quantity', alpha=0.5)\n",
    "ax.set_xlabel('Log(Distance to China in km)')\n",
    "ax.set_ylabel('Log(Export Volume)')\n",
    "ax.legend()\n",
    "plt.title('Distance vs. Export Volume')\n",
    "plt.show()"
   ]
  },
  {
   "cell_type": "markdown",
   "id": "b10ccfdb",
   "metadata": {},
   "source": [
    "## Bonus Qs"
   ]
  },
  {
   "cell_type": "markdown",
   "id": "df3c4df4",
   "metadata": {},
   "source": [
    "Economic Intuition\n",
    "\n",
    "For the question regarding which commodity sectors are most influenced by distance in terms of exporting, economic intuition suggests that several factors might be relevant:\n",
    "\n",
    "Weight and Volume: Commodities that are bulkier or heavier (like raw materials and agricultural products) tend to have higher transportation costs, making distance a more critical factor.\n",
    "Perishability: Perishable goods (such as fresh foods) may have limited export ranges due to the need for quicker delivery.\n",
    "Value Density: High-value, low-volume goods (like electronics or pharmaceuticals) are less sensitive to distance because their transportation costs are a smaller proportion of their total value.\n",
    "Market Dynamics: The necessity of goods in importing countries can also affect sensitivity to distance. Essential commodities might still be imported regardless of distance due to lack of local alternatives.\n",
    "Data Requirements\n",
    "To analyze how distance impacts the importance of exporting different commodity sectors, the following data would be needed:\n",
    "\n",
    "Trade Data: Detailed records of trade flows between countries, including commodity sector, export quantities, and values.\n",
    "Distance Data: Information on the distance between exporting and importing countries. This could be direct geographic distance or more complex measures that consider actual shipping routes or transportation infrastructure.\n",
    "Commodity Characteristics: Data on the nature of the commodities being traded, including weight, volume, perishability, and value density.\n",
    "Economic Indicators: GDP, population, and possibly economic openness of the trading countries, as these can influence trade volumes and patterns.\n",
    "\n",
    "Data Manipulation\n",
    "\n",
    "Merge and Clean Data: Combine trade, distance, and commodity characteristic data into a single dataset. Handle missing values and ensure consistent units across different sources.\n",
    "Categorize Commodities: Group commodities into sectors based on their characteristics (e.g., perishable goods, heavy goods, high-value goods).\n",
    "Compute Trade Weights: Create weighted measures of trade flows that consider both the quantity and the value of goods traded.\n",
    "\n",
    "Analysis Strategy\n",
    "\n",
    "Correlation Analysis: Calculate correlations between distance and trade volume/value for each commodity sector. This provides a preliminary view of which sectors are most impacted by distance.\n",
    "\n",
    "Regression Analysis:\n",
    "\n",
    "Perform econometric regressions where trade volume or value is the dependent variable, and distance, along with other economic indicators and commodity characteristics, are independent variables. Include interaction terms between distance and commodity characteristics to see if the impact of distance varies by these features.\n",
    "Consider fixed effects for countries to control for unobserved heterogeneity.\n",
    "\n",
    "Cluster Analysis:\n",
    "\n",
    "Use clustering techniques to identify groups of commodity sectors based on their patterns of sensitivity to distance.\n",
    "\n",
    "Visualization:\n",
    "\n",
    "Plot scatter graphs of trade volume/value against distance for different commodity sectors.\n",
    "Use heat maps to show the intensity of trade relationships over distances across different sectors."
   ]
  }
 ],
 "metadata": {
  "kernelspec": {
   "display_name": "Python 3 (ipykernel)",
   "language": "python",
   "name": "python3"
  },
  "language_info": {
   "codemirror_mode": {
    "name": "ipython",
    "version": 3
   },
   "file_extension": ".py",
   "mimetype": "text/x-python",
   "name": "python",
   "nbconvert_exporter": "python",
   "pygments_lexer": "ipython3",
   "version": "3.9.12"
  }
 },
 "nbformat": 4,
 "nbformat_minor": 5
}
